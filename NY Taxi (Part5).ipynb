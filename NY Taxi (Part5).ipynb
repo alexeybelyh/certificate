{
 "cells": [
  {
   "cell_type": "code",
   "execution_count": 1,
   "metadata": {},
   "outputs": [],
   "source": [
    "%matplotlib inline\n",
    "\n",
    "import pandas as pd\n",
    "import numpy as np\n",
    "\n",
    "from sklearn.linear_model import  LinearRegression\n",
    "from sklearn.linear_model import Lasso\n",
    "from sklearn.ensemble import RandomForestRegressor\n",
    "\n",
    "\n",
    "from statsmodels.tsa.statespace.sarimax import SARIMAXResults\n",
    "from numpy.linalg.linalg import LinAlgError\n",
    "\n",
    "from scipy import stats\n",
    "\n",
    "from matplotlib import pyplot as plt\n",
    "from statsmodels import api as sm\n",
    "from tqdm import tqdm \n",
    "import warnings\n",
    "from itertools import product"
   ]
  },
  {
   "cell_type": "markdown",
   "metadata": {},
   "source": [
    "Подготовим список 102 отобранных на 2 неделе районов в мае"
   ]
  },
  {
   "cell_type": "code",
   "execution_count": 2,
   "metadata": {},
   "outputs": [
    {
     "name": "stdout",
     "output_type": "stream",
     "text": [
      "Число отобранных районов 102\n"
     ]
    }
   ],
   "source": [
    "#Загружаем предварительно подготовленную в 1-м задании таблицу тайм сессии для мая 2016\n",
    "df=pd.read_csv('TS_2016-05.csv',header=-1)\n",
    "cols=[]\n",
    "for i in range(1,2501):\n",
    "    x=df[i].mean()\n",
    "    if x>=5:\n",
    "        cols.append(i)\n",
    "print u'Число отобранных районов', len(cols)"
   ]
  },
  {
   "cell_type": "code",
   "execution_count": 3,
   "metadata": {},
   "outputs": [
    {
     "data": {
      "text/plain": [
       "(4368, 102)"
      ]
     },
     "execution_count": 3,
     "metadata": {},
     "output_type": "execute_result"
    }
   ],
   "source": [
    "df_05=pd.read_csv('TS_2016-05.csv',header=-1,parse_dates=[0],index_col=[0])[cols]\n",
    "df_06=pd.read_csv('TS_2016-06.csv',header=-1,parse_dates=[0],index_col=[0])[cols]\n",
    "files=['TS_2015-11.csv','TS_2015-12.csv','TS_2016-01.csv','TS_2016-02.csv','TS_2016-03.csv','TS_2016-04.csv']\n",
    "df_tr=pd.DataFrame()\n",
    "for i,f in enumerate(files):\n",
    "    df_first=pd.read_csv(f,header=-1,parse_dates=[0],index_col=[0])\n",
    "    df_tr=df_tr.append (df_first,ignore_index=False)\n",
    "df_tr=df_tr[cols]\n",
    "df_tr.shape"
   ]
  },
  {
   "cell_type": "code",
   "execution_count": 4,
   "metadata": {},
   "outputs": [
    {
     "data": {
      "text/plain": [
       "(5832, 102)"
      ]
     },
     "execution_count": 4,
     "metadata": {},
     "output_type": "execute_result"
    }
   ],
   "source": [
    "df_all=pd.concat((df_tr, df_05,df_06))\n",
    "df_all.shape"
   ]
  },
  {
   "cell_type": "markdown",
   "metadata": {},
   "source": [
    "#### 1. Для каждой из шести задач прогнозирования y^T+i|T,i=1,…,6 сформируйте выборки. Откликом будет yT+i при всевозможных значениях T, а признаки можно использовать следующие:\n"
   ]
  },
  {
   "cell_type": "code",
   "execution_count": 5,
   "metadata": {},
   "outputs": [],
   "source": [
    "#Функция формирует временные признаки (не зависящие от географической зоны)\n",
    "def get_time_features(df, K):\n",
    "    length = df.shape[0] + 1\n",
    "    features = pd.DataFrame()\n",
    "    for i in range(1,K+1):\n",
    "        features['sinw_w%d' % i] = [ np.sin(t * i * 2.*np.pi / 168.) for t in np.arange(1, length)]\n",
    "        features['cosw_w%d' % i] = [ np.cos(t * i * 2.*np.pi / 168.) for t in np.arange(1, length)]\n",
    "        features['sind_%d' % i] = [ np.sin(t * i * 2.*np.pi / 24.) for t in np.arange(1, length)]\n",
    "        features['cosd_%d' % i] = [ np.cos(t * i * 2.*np.pi / 24.) for t in np.arange(1, length)]\n",
    "\n",
    "    features[['h%d' % i for i in range(0, 24)]] = pd.get_dummies(df.index.hour)\n",
    "    features[['dw%d' % i for i in range(0, 7)]] = pd.get_dummies(df.index.weekday)\n",
    "    features[['dm%d' % i for i in range(0, 31)]] = pd.get_dummies(df.index.day)\n",
    "    features['is_weekend'] = (df.index.weekday > 4).astype(float)\n",
    "      \n",
    "    return features"
   ]
  },
  {
   "cell_type": "code",
   "execution_count": 6,
   "metadata": {},
   "outputs": [],
   "source": [
    "#Кумулятивное скользящее\n",
    "def mov_cum (z,N=3):\n",
    "    cumsum, moving_aves = [0], []\n",
    "    for i, x in enumerate(z, 1):\n",
    "        cumsum.append(cumsum[i-1] + x)\n",
    "        if i>=N:\n",
    "            moving_ave = (cumsum[i] - cumsum[i-N])\n",
    "        \n",
    "            moving_aves.append(moving_ave)\n",
    "            \n",
    "    return [0]*(N-1)+moving_aves    "
   ]
  },
  {
   "cell_type": "code",
   "execution_count": 7,
   "metadata": {},
   "outputs": [],
   "source": [
    "#Зональные регрессионные признаки\n",
    "def get_trip_features(df,Region,K):\n",
    "    L=df.shape[0]\n",
    "    S=df[Region].values\n",
    "    features = pd.DataFrame()\n",
    "    y0=np.zeros(K)\n",
    "    \n",
    "    #количество поездок из рассматриваемого района в моменты времени yT,yT−1,…,yT−K \n",
    "    for j in range(K):\n",
    "        y=[S[i-j] for i in range(K,L)]\n",
    "        \n",
    "        features['n-_%d' % j]=np.concatenate((y0,y),axis=0)\n",
    "                 \n",
    "    #суммарное количество поездок из рассматриваемого района за предшествующие полдня, сутки, неделю, месяц                 \n",
    "    hours=[4,8,12,24,24*7,24*30]  \n",
    "    for h in hours:\n",
    "        features['sum_%d' % h]=mov_cum(S,N=h)\n",
    "    \n",
    "    return  features        "
   ]
  },
  {
   "cell_type": "code",
   "execution_count": 8,
   "metadata": {},
   "outputs": [],
   "source": [
    "df_ARIMA=pd.read_csv('ARIMA_pred(15.11-16.06)',',') #предсказания по модели ARIMA"
   ]
  },
  {
   "cell_type": "markdown",
   "metadata": {},
   "source": [
    "Приготовим X регрессионных признаков и 6 ответов y"
   ]
  },
  {
   "cell_type": "code",
   "execution_count": 9,
   "metadata": {},
   "outputs": [],
   "source": [
    "#Формирует df - регрессионные данные Х и ответы y - 6 вариантов ответов для шага прогноза (1,...6)\n",
    "def get_Xy_data(df, Kt = 20, Kd=10):\n",
    "    Xtime=get_time_features(df, Kt)\n",
    "\n",
    "    data=[]\n",
    "    for j,r in enumerate(cols): #перебор по зонам\n",
    "        #if j==1:\n",
    "        #    break\n",
    "        Xtrip=get_trip_features(df, r, Kd)\n",
    "        X=pd.concat((Xtime,Xtrip), axis=1) # объединение временных признаков и зональных\n",
    "        \n",
    "        x_arima=df_ARIMA[str(r)]\n",
    "        y=df_all[r]\n",
    "        \n",
    "        # добавление столбцов предсказаний ARIMA\n",
    "        for i in range(1,7): \n",
    "            X['ARIMA_%d' % i]=x_arima.shift(-i).values\n",
    "        \n",
    "        if j==0:\n",
    "            X_size=X.shape[1] # ширина таблицы регрессионных признаков\n",
    "        \n",
    "        # добавление столбцов ответов\n",
    "        for i in range(1,7): \n",
    "            X['y_%d' % i]=y.shift(-i).values\n",
    "        \n",
    "        X.index=df.index\n",
    "        \n",
    "        #Обрезка 0 в начале и 6 строк в конце\n",
    "        X=X.iloc[24*30-1:df.shape[0]-6] \n",
    "        data.append(X)\n",
    "    return data, X_size"
   ]
  },
  {
   "cell_type": "code",
   "execution_count": 10,
   "metadata": {},
   "outputs": [
    {
     "name": "stdout",
     "output_type": "stream",
     "text": [
      "165\n",
      "Wall time: 13.7 s\n"
     ]
    }
   ],
   "source": [
    "%%time\n",
    "data, X_size =get_Xy_data(df_all, Kt = 20, Kd=10)\n",
    "print X_size"
   ]
  },
  {
   "cell_type": "code",
   "execution_count": 11,
   "metadata": {},
   "outputs": [
    {
     "data": {
      "text/html": [
       "<div>\n",
       "<style scoped>\n",
       "    .dataframe tbody tr th:only-of-type {\n",
       "        vertical-align: middle;\n",
       "    }\n",
       "\n",
       "    .dataframe tbody tr th {\n",
       "        vertical-align: top;\n",
       "    }\n",
       "\n",
       "    .dataframe thead th {\n",
       "        text-align: right;\n",
       "    }\n",
       "</style>\n",
       "<table border=\"1\" class=\"dataframe\">\n",
       "  <thead>\n",
       "    <tr style=\"text-align: right;\">\n",
       "      <th></th>\n",
       "      <th>sinw_w1</th>\n",
       "      <th>cosw_w1</th>\n",
       "      <th>sind_1</th>\n",
       "      <th>cosd_1</th>\n",
       "      <th>sinw_w2</th>\n",
       "      <th>cosw_w2</th>\n",
       "      <th>sind_2</th>\n",
       "      <th>cosd_2</th>\n",
       "      <th>sinw_w3</th>\n",
       "      <th>cosw_w3</th>\n",
       "      <th>...</th>\n",
       "      <th>ARIMA_3</th>\n",
       "      <th>ARIMA_4</th>\n",
       "      <th>ARIMA_5</th>\n",
       "      <th>ARIMA_6</th>\n",
       "      <th>y_1</th>\n",
       "      <th>y_2</th>\n",
       "      <th>y_3</th>\n",
       "      <th>y_4</th>\n",
       "      <th>y_5</th>\n",
       "      <th>y_6</th>\n",
       "    </tr>\n",
       "    <tr>\n",
       "      <th>0</th>\n",
       "      <th></th>\n",
       "      <th></th>\n",
       "      <th></th>\n",
       "      <th></th>\n",
       "      <th></th>\n",
       "      <th></th>\n",
       "      <th></th>\n",
       "      <th></th>\n",
       "      <th></th>\n",
       "      <th></th>\n",
       "      <th></th>\n",
       "      <th></th>\n",
       "      <th></th>\n",
       "      <th></th>\n",
       "      <th></th>\n",
       "      <th></th>\n",
       "      <th></th>\n",
       "      <th></th>\n",
       "      <th></th>\n",
       "      <th></th>\n",
       "      <th></th>\n",
       "    </tr>\n",
       "  </thead>\n",
       "  <tbody>\n",
       "    <tr>\n",
       "      <th>2015-11-30 23:00:00</th>\n",
       "      <td>0.974928</td>\n",
       "      <td>-0.222521</td>\n",
       "      <td>6.862974e-15</td>\n",
       "      <td>1.000000</td>\n",
       "      <td>-0.433884</td>\n",
       "      <td>-0.900969</td>\n",
       "      <td>1.372595e-14</td>\n",
       "      <td>1.000000e+00</td>\n",
       "      <td>-0.781831</td>\n",
       "      <td>0.623490</td>\n",
       "      <td>...</td>\n",
       "      <td>10.444599</td>\n",
       "      <td>3.255400</td>\n",
       "      <td>3.330129</td>\n",
       "      <td>3.999257</td>\n",
       "      <td>19.0</td>\n",
       "      <td>16.0</td>\n",
       "      <td>8.0</td>\n",
       "      <td>3.0</td>\n",
       "      <td>2.0</td>\n",
       "      <td>7.0</td>\n",
       "    </tr>\n",
       "    <tr>\n",
       "      <th>2015-12-01 00:00:00</th>\n",
       "      <td>0.965926</td>\n",
       "      <td>-0.258819</td>\n",
       "      <td>2.588190e-01</td>\n",
       "      <td>0.965926</td>\n",
       "      <td>-0.500000</td>\n",
       "      <td>-0.866025</td>\n",
       "      <td>5.000000e-01</td>\n",
       "      <td>8.660254e-01</td>\n",
       "      <td>-0.707107</td>\n",
       "      <td>0.707107</td>\n",
       "      <td>...</td>\n",
       "      <td>3.255400</td>\n",
       "      <td>3.330129</td>\n",
       "      <td>3.999257</td>\n",
       "      <td>12.881411</td>\n",
       "      <td>16.0</td>\n",
       "      <td>8.0</td>\n",
       "      <td>3.0</td>\n",
       "      <td>2.0</td>\n",
       "      <td>7.0</td>\n",
       "      <td>20.0</td>\n",
       "    </tr>\n",
       "    <tr>\n",
       "      <th>2015-12-01 01:00:00</th>\n",
       "      <td>0.955573</td>\n",
       "      <td>-0.294755</td>\n",
       "      <td>5.000000e-01</td>\n",
       "      <td>0.866025</td>\n",
       "      <td>-0.563320</td>\n",
       "      <td>-0.826239</td>\n",
       "      <td>8.660254e-01</td>\n",
       "      <td>5.000000e-01</td>\n",
       "      <td>-0.623490</td>\n",
       "      <td>0.781831</td>\n",
       "      <td>...</td>\n",
       "      <td>3.330129</td>\n",
       "      <td>3.999257</td>\n",
       "      <td>12.881411</td>\n",
       "      <td>24.737939</td>\n",
       "      <td>8.0</td>\n",
       "      <td>3.0</td>\n",
       "      <td>2.0</td>\n",
       "      <td>7.0</td>\n",
       "      <td>20.0</td>\n",
       "      <td>54.0</td>\n",
       "    </tr>\n",
       "    <tr>\n",
       "      <th>2015-12-01 02:00:00</th>\n",
       "      <td>0.943883</td>\n",
       "      <td>-0.330279</td>\n",
       "      <td>7.071068e-01</td>\n",
       "      <td>0.707107</td>\n",
       "      <td>-0.623490</td>\n",
       "      <td>-0.781831</td>\n",
       "      <td>1.000000e+00</td>\n",
       "      <td>-8.335645e-15</td>\n",
       "      <td>-0.532032</td>\n",
       "      <td>0.846724</td>\n",
       "      <td>...</td>\n",
       "      <td>3.999257</td>\n",
       "      <td>12.881411</td>\n",
       "      <td>24.737939</td>\n",
       "      <td>55.497679</td>\n",
       "      <td>3.0</td>\n",
       "      <td>2.0</td>\n",
       "      <td>7.0</td>\n",
       "      <td>20.0</td>\n",
       "      <td>54.0</td>\n",
       "      <td>94.0</td>\n",
       "    </tr>\n",
       "    <tr>\n",
       "      <th>2015-12-01 03:00:00</th>\n",
       "      <td>0.930874</td>\n",
       "      <td>-0.365341</td>\n",
       "      <td>8.660254e-01</td>\n",
       "      <td>0.500000</td>\n",
       "      <td>-0.680173</td>\n",
       "      <td>-0.733052</td>\n",
       "      <td>8.660254e-01</td>\n",
       "      <td>-5.000000e-01</td>\n",
       "      <td>-0.433884</td>\n",
       "      <td>0.900969</td>\n",
       "      <td>...</td>\n",
       "      <td>12.881411</td>\n",
       "      <td>24.737939</td>\n",
       "      <td>55.497679</td>\n",
       "      <td>85.346650</td>\n",
       "      <td>2.0</td>\n",
       "      <td>7.0</td>\n",
       "      <td>20.0</td>\n",
       "      <td>54.0</td>\n",
       "      <td>94.0</td>\n",
       "      <td>81.0</td>\n",
       "    </tr>\n",
       "  </tbody>\n",
       "</table>\n",
       "<p>5 rows × 171 columns</p>\n",
       "</div>"
      ],
      "text/plain": [
       "                      sinw_w1   cosw_w1        sind_1    cosd_1   sinw_w2  \\\n",
       "0                                                                           \n",
       "2015-11-30 23:00:00  0.974928 -0.222521  6.862974e-15  1.000000 -0.433884   \n",
       "2015-12-01 00:00:00  0.965926 -0.258819  2.588190e-01  0.965926 -0.500000   \n",
       "2015-12-01 01:00:00  0.955573 -0.294755  5.000000e-01  0.866025 -0.563320   \n",
       "2015-12-01 02:00:00  0.943883 -0.330279  7.071068e-01  0.707107 -0.623490   \n",
       "2015-12-01 03:00:00  0.930874 -0.365341  8.660254e-01  0.500000 -0.680173   \n",
       "\n",
       "                      cosw_w2        sind_2        cosd_2   sinw_w3   cosw_w3  \\\n",
       "0                                                                               \n",
       "2015-11-30 23:00:00 -0.900969  1.372595e-14  1.000000e+00 -0.781831  0.623490   \n",
       "2015-12-01 00:00:00 -0.866025  5.000000e-01  8.660254e-01 -0.707107  0.707107   \n",
       "2015-12-01 01:00:00 -0.826239  8.660254e-01  5.000000e-01 -0.623490  0.781831   \n",
       "2015-12-01 02:00:00 -0.781831  1.000000e+00 -8.335645e-15 -0.532032  0.846724   \n",
       "2015-12-01 03:00:00 -0.733052  8.660254e-01 -5.000000e-01 -0.433884  0.900969   \n",
       "\n",
       "                     ...     ARIMA_3    ARIMA_4    ARIMA_5    ARIMA_6   y_1  \\\n",
       "0                    ...                                                      \n",
       "2015-11-30 23:00:00  ...   10.444599   3.255400   3.330129   3.999257  19.0   \n",
       "2015-12-01 00:00:00  ...    3.255400   3.330129   3.999257  12.881411  16.0   \n",
       "2015-12-01 01:00:00  ...    3.330129   3.999257  12.881411  24.737939   8.0   \n",
       "2015-12-01 02:00:00  ...    3.999257  12.881411  24.737939  55.497679   3.0   \n",
       "2015-12-01 03:00:00  ...   12.881411  24.737939  55.497679  85.346650   2.0   \n",
       "\n",
       "                      y_2   y_3   y_4   y_5   y_6  \n",
       "0                                                  \n",
       "2015-11-30 23:00:00  16.0   8.0   3.0   2.0   7.0  \n",
       "2015-12-01 00:00:00   8.0   3.0   2.0   7.0  20.0  \n",
       "2015-12-01 01:00:00   3.0   2.0   7.0  20.0  54.0  \n",
       "2015-12-01 02:00:00   2.0   7.0  20.0  54.0  94.0  \n",
       "2015-12-01 03:00:00   7.0  20.0  54.0  94.0  81.0  \n",
       "\n",
       "[5 rows x 171 columns]"
      ]
     },
     "execution_count": 11,
     "metadata": {},
     "output_type": "execute_result"
    }
   ],
   "source": [
    "data[0].head()"
   ]
  },
  {
   "cell_type": "markdown",
   "metadata": {},
   "source": [
    "#### 3. Выберите вашу любимую регрессионную модель и настройте её на каждом из шести наборов данных, подбирая гиперпараметры на мае 2016. Желательно, чтобы модель:\n",
    "\n",
    "допускала попарные взаимодействия между признаками\n",
    "была устойчивой к избыточному количеству признаков (например, использовала регуляризаторы)\n",
    "#### 4. Выбранными моделями постройте для каждой географической зоны и каждого конца истории от 2016.04.30 23:00 до 2016.05.31 17:00 прогнозы на 6 часов вперёд; посчитайте в ноутбуке ошибку прогноза по следующему функционалу:"
   ]
  },
  {
   "cell_type": "code",
   "execution_count": 12,
   "metadata": {},
   "outputs": [],
   "source": [
    "#Составим предсказательные модели для каждой зоны, каждаго предсказательного шага смещения\n",
    "\n",
    "#Линейная регрессия\n",
    "\n",
    "def get_LinearRegr_models(time_end='2016-04-30 17:00:00'):\n",
    "    '2016-04-30 17:00:00' #Данные для создания моделей обрезаются этим концом истории\n",
    "    models=[]\n",
    "    for dat in data:\n",
    "        X=dat[:time_end].iloc[:,:X_size]\n",
    "        m=[]\n",
    "        for j in range(6):\n",
    "            y=dat[:time_end].iloc[:,X_size+j]\n",
    "            m.append(LinearRegression().fit(X, y))\n",
    "        models.append(m)\n",
    "    return models"
   ]
  },
  {
   "cell_type": "code",
   "execution_count": 13,
   "metadata": {},
   "outputs": [],
   "source": [
    "#Лассо регрессия\n",
    "def get_Lasso_models(time_end='2016-04-30 17:00:00',alpha=0.1):\n",
    "    '2016-04-30 17:00:00' #Данные для создания моделей обрезаются этим концом истории\n",
    "    warnings.filterwarnings('ignore')\n",
    "    models=[]\n",
    "    for dat in data:\n",
    "        X=dat[:time_end].iloc[:,:X_size]\n",
    "        m=[]\n",
    "        for j in range(6):\n",
    "            y=dat[:time_end].iloc[:,X_size+j]\n",
    "            m.append(Lasso(alpha).fit(X, y))\n",
    "        models.append(m)\n",
    "    warnings.filterwarnings('default')\n",
    "    return models"
   ]
  },
  {
   "cell_type": "code",
   "execution_count": 14,
   "metadata": {},
   "outputs": [],
   "source": [
    "#Случайный лес\n",
    "def get_rf_models(time_end='2016-04-30 17:00:00'):\n",
    "    '2016-04-30 17:00:00' #Данные для создания моделей обрезаются этим концом истории\n",
    "    warnings.filterwarnings('ignore')\n",
    "    models=[]\n",
    "    for dat in data:\n",
    "        X=dat[:time_end].iloc[:,:X_size]\n",
    "        m=[]\n",
    "        for j in range(6):\n",
    "            y=dat[:time_end].iloc[:,X_size+j]\n",
    "            m.append(RandomForestRegressor().fit(X, y))\n",
    "        models.append(m)\n",
    "    warnings.filterwarnings('default')\n",
    "    return models"
   ]
  },
  {
   "cell_type": "code",
   "execution_count": 15,
   "metadata": {},
   "outputs": [
    {
     "name": "stdout",
     "output_type": "stream",
     "text": [
      "Wall time: 28.7 s\n"
     ]
    }
   ],
   "source": [
    "%%time\n",
    "LR_models=get_LinearRegr_models(time_end='2016-04-30 17:00:00') #Получение списка моделей"
   ]
  },
  {
   "cell_type": "code",
   "execution_count": 16,
   "metadata": {},
   "outputs": [
    {
     "name": "stdout",
     "output_type": "stream",
     "text": [
      "Wall time: 5min 54s\n"
     ]
    }
   ],
   "source": [
    "%%time\n",
    "Lasso_models=get_Lasso_models(time_end='2016-04-30 17:00:00',alpha=0.05) #Получение списка моделей"
   ]
  },
  {
   "cell_type": "code",
   "execution_count": 17,
   "metadata": {},
   "outputs": [
    {
     "name": "stdout",
     "output_type": "stream",
     "text": [
      "Wall time: 15min 55s\n"
     ]
    }
   ],
   "source": [
    "%%time\n",
    "RF_models=get_rf_models(time_end='2016-04-30 17:00:00') #Получение списка моделей"
   ]
  },
  {
   "cell_type": "code",
   "execution_count": 18,
   "metadata": {},
   "outputs": [],
   "source": [
    "time_ends=df_all['2016-04-30 23:00:00':'2016-05-31 17:00:00'].index"
   ]
  },
  {
   "cell_type": "code",
   "execution_count": 19,
   "metadata": {},
   "outputs": [],
   "source": [
    "def Qmay(models):\n",
    "    q=0\n",
    "    for r in range(len(cols)): #преребор по районам\n",
    "        dat=data[r]\n",
    "        model=models[r]\n",
    "        if r==10:\n",
    "            break\n",
    "   \n",
    "        for i,t in enumerate(time_ends): #перебор по концам истории\n",
    "            X=dat[t:t].iloc[:,:X_size]\n",
    "        \n",
    "            for j in range(6): #перебор по шагам прогноза\n",
    "            \n",
    "                m=model[j]\n",
    "                y_hat=m.predict(X)\n",
    "                y_real=dat[t:t].iloc[:,X_size+j]\n",
    "                #print y_hat[0],y_real[0]\n",
    "                q+=np.abs(y_hat[0]-y_real[0])\n",
    "            \n",
    "    Qmay=1./(739*6)*q\n",
    "    return Qmay"
   ]
  },
  {
   "cell_type": "code",
   "execution_count": 20,
   "metadata": {},
   "outputs": [
    {
     "name": "stdout",
     "output_type": "stream",
     "text": [
      "41.60485644941389\n",
      "45.93634335357664\n",
      "91.5516463689671\n",
      "Wall time: 3min 49s\n"
     ]
    }
   ],
   "source": [
    "%%time\n",
    "print Qmay(LR_models)\n",
    "print Qmay(Lasso_models)\n",
    "print Qmay(RF_models)"
   ]
  },
  {
   "cell_type": "markdown",
   "metadata": {},
   "source": [
    "#### Вывод: из 3 видов моделей самый лучший результат на функционале Qmay дает Линейная регрессия, на втором месте Лассо, на третьем - случайный лес.\n",
    "#### Ошибка уменьшилась в 2 раза. Сама по себе ARIMA давала 83 "
   ]
  },
  {
   "cell_type": "markdown",
   "metadata": {},
   "source": [
    "#### 5. Итоговыми моделями постройте прогнозы для каждого конца истории от 2016.05.31 23:00 до 2016.06.30 17:00 и запишите все результаты в один файл в формате geoID, histEndDay, histEndHour, step, y. Здесь geoID — идентификатор зоны, histEndDay — день конца истории в формате id,y, где столбец id состоит из склеенных через подчёркивание идентификатора географической зоны, даты конца истории, часа конца истории и номера отсчёта, на который делается предсказание (1-6); столбец y — ваш прогноз."
   ]
  },
  {
   "cell_type": "code",
   "execution_count": 21,
   "metadata": {},
   "outputs": [],
   "source": [
    "#Далее будем использовать Линейную модель\n",
    "models=LR_models"
   ]
  },
  {
   "cell_type": "code",
   "execution_count": 22,
   "metadata": {},
   "outputs": [],
   "source": [
    "time_ends=df_all['2016-05-31 23:00:00':'2016-06-30 17:00:00'].index\n"
   ]
  },
  {
   "cell_type": "code",
   "execution_count": 23,
   "metadata": {},
   "outputs": [
    {
     "name": "stdout",
     "output_type": "stream",
     "text": [
      "Wall time: 6min 18s\n"
     ]
    }
   ],
   "source": [
    "%%time\n",
    "Q=[]\n",
    "for r in range(len(cols)): #преребор по районам\n",
    "    dat=data[r]\n",
    "    model=models[r]\n",
    "    i_zone=cols[r]\n",
    "    #if r==1:\n",
    "        #break\n",
    "        \n",
    "    for i,t in enumerate(time_ends): #перебор по концам истории\n",
    "        X=dat[t:t].iloc[:,:X_size]\n",
    "        \n",
    "        for j in range(6): #перебор по шагам прогноза\n",
    "            \n",
    "            m=model[j]\n",
    "            y_hat=m.predict(X)[0]\n",
    "            \n",
    "            te=time_ends[i]\n",
    "            id_='{}_2016-{:02}-{:02}_{}_{}'.format(i_zone, te.month, te.day, te.hour, j+1)\n",
    "            \n",
    "            Q.append([id_, y_hat])\n",
    "\n",
    "Predict_june=pd.DataFrame(Q)\n",
    "Predict_june.columns=['id','y']"
   ]
  },
  {
   "cell_type": "code",
   "execution_count": 24,
   "metadata": {},
   "outputs": [],
   "source": [
    "Predict_june.to_csv('Kaggle2.csv',',',index=False)"
   ]
  },
  {
   "cell_type": "code",
   "execution_count": 25,
   "metadata": {},
   "outputs": [
    {
     "data": {
      "text/html": [
       "<div>\n",
       "<style scoped>\n",
       "    .dataframe tbody tr th:only-of-type {\n",
       "        vertical-align: middle;\n",
       "    }\n",
       "\n",
       "    .dataframe tbody tr th {\n",
       "        vertical-align: top;\n",
       "    }\n",
       "\n",
       "    .dataframe thead th {\n",
       "        text-align: right;\n",
       "    }\n",
       "</style>\n",
       "<table border=\"1\" class=\"dataframe\">\n",
       "  <thead>\n",
       "    <tr style=\"text-align: right;\">\n",
       "      <th></th>\n",
       "      <th>id</th>\n",
       "      <th>y</th>\n",
       "    </tr>\n",
       "  </thead>\n",
       "  <tbody>\n",
       "    <tr>\n",
       "      <th>0</th>\n",
       "      <td>1075_2016-05-31_23_1</td>\n",
       "      <td>27.794346</td>\n",
       "    </tr>\n",
       "    <tr>\n",
       "      <th>1</th>\n",
       "      <td>1075_2016-05-31_23_2</td>\n",
       "      <td>26.320137</td>\n",
       "    </tr>\n",
       "    <tr>\n",
       "      <th>2</th>\n",
       "      <td>1075_2016-05-31_23_3</td>\n",
       "      <td>25.833581</td>\n",
       "    </tr>\n",
       "    <tr>\n",
       "      <th>3</th>\n",
       "      <td>1075_2016-05-31_23_4</td>\n",
       "      <td>25.065827</td>\n",
       "    </tr>\n",
       "    <tr>\n",
       "      <th>4</th>\n",
       "      <td>1075_2016-05-31_23_5</td>\n",
       "      <td>26.700609</td>\n",
       "    </tr>\n",
       "  </tbody>\n",
       "</table>\n",
       "</div>"
      ],
      "text/plain": [
       "                     id          y\n",
       "0  1075_2016-05-31_23_1  27.794346\n",
       "1  1075_2016-05-31_23_2  26.320137\n",
       "2  1075_2016-05-31_23_3  25.833581\n",
       "3  1075_2016-05-31_23_4  25.065827\n",
       "4  1075_2016-05-31_23_5  26.700609"
      ]
     },
     "execution_count": 25,
     "metadata": {},
     "output_type": "execute_result"
    }
   ],
   "source": [
    "Predict_june.head()"
   ]
  },
  {
   "cell_type": "markdown",
   "metadata": {},
   "source": [
    "#### 6. Загрузите полученный файл на kaggle: https://inclass.kaggle.com/c/yellowtaxi. Добавьте в ноутбук ссылку на сабмишн."
   ]
  },
  {
   "cell_type": "markdown",
   "metadata": {},
   "source": [
    "Ссылка на сабмишн\n",
    "https://inclass.kaggle.com/c/yellowtaxi/submit\n",
    "Score 52.20717   "
   ]
  },
  {
   "cell_type": "code",
   "execution_count": null,
   "metadata": {},
   "outputs": [],
   "source": []
  },
  {
   "cell_type": "code",
   "execution_count": null,
   "metadata": {},
   "outputs": [],
   "source": []
  },
  {
   "cell_type": "code",
   "execution_count": null,
   "metadata": {},
   "outputs": [],
   "source": []
  },
  {
   "cell_type": "code",
   "execution_count": null,
   "metadata": {},
   "outputs": [],
   "source": []
  }
 ],
 "metadata": {
  "kernelspec": {
   "display_name": "Python 2",
   "language": "python",
   "name": "python2"
  },
  "language_info": {
   "codemirror_mode": {
    "name": "ipython",
    "version": 2
   },
   "file_extension": ".py",
   "mimetype": "text/x-python",
   "name": "python",
   "nbconvert_exporter": "python",
   "pygments_lexer": "ipython2",
   "version": "2.7.15"
  }
 },
 "nbformat": 4,
 "nbformat_minor": 2
}
