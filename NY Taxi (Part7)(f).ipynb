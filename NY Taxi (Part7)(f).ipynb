{
 "cells": [
  {
   "cell_type": "code",
   "execution_count": 1,
   "metadata": {},
   "outputs": [
    {
     "name": "stdout",
     "output_type": "stream",
     "text": [
      "Populating the interactive namespace from numpy and matplotlib\n"
     ]
    },
    {
     "name": "stderr",
     "output_type": "stream",
     "text": [
      "C:\\Users\\Alexey\\Anaconda2\\lib\\site-packages\\folium\\__init__.py:59: UserWarning: This version of folium is the last to support Python 2. Transition to Python 3 to be able to receive updates and fixes. Check out https://python3statement.org/ for more info.\n",
      "  UserWarning\n"
     ]
    }
   ],
   "source": [
    "%pylab inline\n",
    "import pandas as pd\n",
    "import numpy as np\n",
    "import matplotlib.pyplot as plt\n",
    "from ipywidgets import widgets\n",
    "\n",
    "from ipywidgets import interact, interactive\n",
    "from datetime import timedelta, datetime\n",
    "import folium,json"
   ]
  },
  {
   "cell_type": "code",
   "execution_count": 2,
   "metadata": {},
   "outputs": [],
   "source": [
    "df0=pd.read_csv('final_data.csv',sep=',',parse_dates=['t'],index_col=['t'])\n",
    "cols=df0.columns\n",
    "r_cols=list(set([x[:4]for x in df0.columns]))"
   ]
  },
  {
   "cell_type": "code",
   "execution_count": 3,
   "metadata": {},
   "outputs": [],
   "source": [
    "def get_dfs():\n",
    "    dfs_dic={}\n",
    "    for step in [1,3,6]:\n",
    "        yr_name=[x+'y_'+str(step) for x in r_cols]\n",
    "        ypr_abs_name=[x+'ypr_abs_'+str(step) for x in r_cols]\n",
    "        df_real=df0[yr_name]\n",
    "        df_predicted=df0[ypr_abs_name]\n",
    "        df_real.columns=r_cols\n",
    "        df_predicted.columns=r_cols\n",
    "        \n",
    "        dfs_dic[step]=[df_real,df_predicted]\n",
    "    \n",
    "    return  dfs_dic"
   ]
  },
  {
   "cell_type": "code",
   "execution_count": 4,
   "metadata": {},
   "outputs": [],
   "source": [
    "#Блок подготовки карт\n",
    "NY_center_location=[(40.49612+40.91553)/2+0.04,(-74.25559+-73.70001)/2+0.2] #Координаты центра NY\n",
    "south,north,west,east=40.49612, 40.91553,-74.25559, -73.70001\n",
    "coord_NY=[[south,west],[south,east],[north,east],[north,west],[south,west]] \n",
    "NY_border=folium.Polygon(coord_NY,color='blue',weight=0.8)\n",
    "\n",
    "#Создаем df с координатами 102 регионов\n",
    "initial_regs=pd.read_csv('regions.csv',sep=';')\n",
    "initial_regs.index=initial_regs.region #индексы делаем равными идентификаторам регионов\n",
    "indexes_r=[int(x) for x in r_cols] #выделяем индексы, соответствующие 102 регионам\n",
    "regs=initial_regs.loc[indexes_r] # датафрейм с координатами 102 регионов\n",
    "indexes_r_sorted=np.sort(indexes_r)\n",
    "indexes_r_sorted_str=[str(x) for x in indexes_r_sorted]\n",
    "map_reg_state=pd.DataFrame(index=range(1,103))\n",
    "map_reg_state['id']=indexes_r_sorted_str\n",
    "map_reg_state[0]=0\n",
    "\n",
    "#Создаем полигоны 102 ячеек для последующего перевода в json формат\n",
    "Polygons=[]\n",
    "\n",
    "#map_bins=[0,50,100,500,1500,2500]\n",
    "map_bins=[0,100,500,1000,2500]\n",
    "\n",
    "for i in regs.index[:]:\n",
    "    w,e,s,n=regs.west[i],regs.east[i],regs.south[i],regs.north[i]\n",
    "    coord=[[[w,s],[e,s],[e,n],[w,n],[w,s]]] #координаты полигона ячейки\n",
    "    D={\"type\":\"Feature\",0:\"AL\",\"geometry\":{\"type\":\"Polygon\",\"coordinates\":0}}\n",
    "    D['id']=str(i)\n",
    "    D[\"geometry\"][\"coordinates\"]=coord\n",
    "    Polygons.append(D)\n",
    "    \n",
    "form={\"type\":\"FeatureCollection\",\"features\":Polygons} #Формирование геоданных\n",
    "NYgeo = json.dumps(form) #Перевод в json формат\n",
    "\n",
    "dfs_dic=get_dfs()"
   ]
  },
  {
   "cell_type": "code",
   "execution_count": 5,
   "metadata": {},
   "outputs": [],
   "source": [
    "def get_map(step,t1):#Рисует карту с цветовым отображением числа поездок в час\n",
    "    df_pr=dfs_dic[step][1][t1:t1].T\n",
    "    df_pr.columns=[0]\n",
    "    df_pr['id']=df_pr.index\n",
    "\n",
    "    m1 = folium.Map(location=NY_center_location, zoom_start=10.5,height='80%', width='90%')\n",
    "\n",
    "    folium.Choropleth(\n",
    "        geo_data=NYgeo,\n",
    "        name='choropleth',\n",
    "        data=df_pr,\n",
    "        columns=['id', 0],\n",
    "        key_on='feature.id', #соединяем геоданные с данными числа поездок по полю 'id'\n",
    "        bins=map_bins,\n",
    "        fill_color='Oranges',\n",
    "        fill_opacity=0.8,\n",
    "        line_opacity=0.3,\n",
    "        legend_name=u'Среднее количество поездок в час'\n",
    "    ).add_to(m1)\n",
    "    \n",
    "    NY_border.add_to(m1)\n",
    "\n",
    "    return m1"
   ]
  },
  {
   "cell_type": "code",
   "execution_count": 6,
   "metadata": {},
   "outputs": [],
   "source": [
    "def get_map00(map_reg_state,opacity):#Рисует карту с цветовым отображением выбора ячейки\n",
    "    m1 = folium.Map(location=NY_center_location, zoom_start=11,height='90%', width='90%')\n",
    "\n",
    "    folium.Choropleth(\n",
    "        geo_data=NYgeo,\n",
    "        name='choropleth',\n",
    "        data=map_reg_state,\n",
    "        columns=['id', 0],\n",
    "        key_on='feature.id', #соединяем геоданные с данными числа поездок по полю 'id'\n",
    "        bins=[0,2,4,6],\n",
    "        fill_color='YlGn',#'Reds',#'Greys',#'Greens',#'RdPu',#'PRGn',\n",
    "       # fill_color=  {229,245,249},\n",
    "       # fill_color=colorscale ,\n",
    "        fill_opacity=opacity,\n",
    "        line_opacity=0.1,\n",
    "        #legend_name=u'Среднее количество поездок в час'\n",
    "    ).add_to(m1)\n",
    "    \n",
    "    NY_border.add_to(m1)\n",
    "\n",
    "    return m1"
   ]
  },
  {
   "cell_type": "code",
   "execution_count": 7,
   "metadata": {},
   "outputs": [],
   "source": [
    "def get_graph (r,step,t1,t2): # Построение графика числа поездок в час\n",
    "    df_r=dfs_dic[step][0][r][t1:t2]\n",
    "    df_p=dfs_dic[step][1][r][t1:t2]\n",
    "    plt.figure(figsize=(18,5))\n",
    "    plt.plot(df_r)\n",
    "    plt.plot(df_p)\n",
    "    plt.legend(('Real', 'Predicted'),loc='upper right')"
   ]
  },
  {
   "cell_type": "code",
   "execution_count": 8,
   "metadata": {},
   "outputs": [],
   "source": [
    "#Блок описания и компоновки виджетов\n",
    "\n",
    "#Месяц начала периода\n",
    "w_month_start= widgets.RadioButtons(\n",
    "    description='Month start:',\n",
    "    options=[ 'May', 'Jun'],\n",
    "    value='May'\n",
    ")\n",
    "\n",
    "day_max_dic={'May':31, 'Jun':30}\n",
    "\n",
    "#День начала периода\n",
    "w_day_start=widgets.IntSlider(\n",
    "    value=1,\n",
    "    min=1,\n",
    "    max=day_max_dic[w_month_start.value],\n",
    "    step=1,\n",
    "    description='Day start:',)\n",
    "\n",
    "#Час начала периода\n",
    "w_hour_start=widgets.IntSlider(\n",
    "    value=0,\n",
    "    min=0,\n",
    "    max=23,\n",
    "    step=1,\n",
    "    description='hour start',)\n",
    "    #orientation='vertical', )\n",
    "\n",
    "#Блок шага предсказания\n",
    "w_prediction_step= widgets.RadioButtons(\n",
    "    description='Prediction on:',\n",
    "    options=['step=1','step=3', 'step=6', ],\n",
    "    value='step=3')\n",
    "\n",
    "step_dic={'step=1':1,'step=2':2,'step=3':3, 'step=4':4,'step=5':5, 'step=6':6}\n",
    "    \n",
    "    #Длительность периода в днях\n",
    "w_day_length=widgets.IntSlider(\n",
    "    value=0,\n",
    "    min=0,\n",
    "    max=45,\n",
    "    step=1,\n",
    "    description='in days:',)\n",
    "\n",
    "#Длительность периода в часах\n",
    "w_hour_length=widgets.IntSlider(\n",
    "    value=23,\n",
    "    min=0,\n",
    "    max=23,\n",
    "    step=1,\n",
    "    description='in hours:',)\n",
    "\n",
    "#День недели начала и конца\n",
    "dw1,dw2='',''\n",
    "w_dw1=widgets.Label('')\n",
    "w_dw2=widgets.Label('')\n",
    "\n",
    "# Объединение виджетов дня и часа сначала периода\n",
    "box_d_h = widgets.VBox(children=[w_day_start, w_hour_start,w_dw1])\n",
    "box_d = widgets.VBox(children=[w_day_start, w_dw1])\n",
    "\n",
    "# Объединение виджетов старта\n",
    "box_start = widgets.HBox(children=[w_month_start, box_d_h, w_prediction_step])\n",
    "w_4_map = widgets.HBox(children=[w_month_start, box_d, w_prediction_step])\n",
    "\n",
    "# Объединение виджетов длины периода\n",
    "l_end=widgets.Label('Length of period:')\n",
    "box_end1 = widgets.VBox(children=[l_end,w_day_length, w_hour_length])\n",
    "box_end2 = widgets.HBox(children=[box_end1,w_dw2])\n",
    "\n",
    "#Полный виджет\n",
    "w_main= widgets.VBox(children=[box_start,box_end2])\n",
    "\n",
    "#Объединенный виджет для раскраски карты\n",
    "box_m_d_step = widgets.HBox(children=[w_month_start, w_day_start, w_prediction_step])\n",
    "box_h_date = widgets.HBox(children=[w_hour_start, w_dw1])\n",
    "w_map_color=widgets.VBox(children=[box_m_d_step,box_h_date])\n",
    "\n",
    "#Блок выбора района\n",
    "w_reg=widgets.IntSlider(\n",
    "    value=30,\n",
    "    min=1,\n",
    "    max=102,\n",
    "    step=1,\n",
    "    description='chose reg:',)\n",
    "\n",
    "w_opacity=widgets.FloatSlider(\n",
    "    value=2.,\n",
    "    min=0.,\n",
    "    max=2.,\n",
    "    step=0.1,\n",
    "    description='opacity:',)\n",
    "\n"
   ]
  },
  {
   "cell_type": "code",
   "execution_count": 9,
   "metadata": {},
   "outputs": [],
   "source": [
    "m_dic={'Jan': 1, 'Feb': 2,'Mar': 3, 'Apr': 4, 'May': 5, 'Jun': 6,'Dec 2015': 12, }\n",
    "y_dic={'Jan': 2016, 'Feb': 2016,'Mar': 2016, 'Apr': 2016, 'May': 2016, 'Jun': 2016,'Dec 2015': 2015, }\n",
    "\n",
    "def get_time_period(): #вычисляет начальную и конечную даты просматриваемого периода\n",
    "    year_st=y_dic[w_month_start.value]\n",
    "    month_st=m_dic[w_month_start.value]\n",
    "    day_st=w_day_start.value\n",
    "    hour_st=w_hour_start.value\n",
    "    day_l=w_day_length.value\n",
    "    hour_l=w_hour_length.value\n",
    "\n",
    "    date1=datetime(year_st,month_st,day_st,hour_st)\n",
    "    delta_date=timedelta(days=day_l,hours=hour_l)\n",
    "    date2=date1+delta_date\n",
    "    return str(date1),str(date2)\n",
    "\n",
    "weekday_dic={0:'MON',1:'TUE',2:'WED',3:'THU',4:'FRI',5:'SAT',6:'SUN'}\n",
    "def get_days_of_week(t1,t2): # вычисляет дни недели начальной и конечной дат просматриваемого периода\n",
    "    \n",
    "\n",
    "    wd1 = weekday_dic[datetime.strptime(t1[:10], \"%Y-%m-%d\").weekday()]\n",
    "    wd2 = weekday_dic[datetime.strptime(t2[:10], \"%Y-%m-%d\").weekday()]\n",
    "    return wd1,wd2"
   ]
  },
  {
   "cell_type": "markdown",
   "metadata": {},
   "source": [
    "Виджет отображения цвета ячеек карты в зависимости от числа поездок"
   ]
  },
  {
   "cell_type": "code",
   "execution_count": 10,
   "metadata": {},
   "outputs": [],
   "source": [
    "def dinamic_map(m1,d1,h1,st,):\n",
    "   # w_day_start\n",
    "    t1=get_time_period()[0]\n",
    "    step=step_dic[st]\n",
    "    wd1,wd2=get_days_of_week(t1,t1)\n",
    "    w_dw1.value='date:   '+t1[:13]+', '+wd1\n",
    "    \n",
    "    print step\n",
    "    return display(get_map(step,t1))\n",
    "\n",
    "   \n",
    "    \n",
    "out_m = widgets.interactive_output(dinamic_map, \n",
    "    {'m1':w_month_start,\n",
    "     'd1':w_day_start,\n",
    "     'h1':w_hour_start,\n",
    "     'st':w_prediction_step,\n",
    "    })"
   ]
  },
  {
   "cell_type": "markdown",
   "metadata": {},
   "source": [
    "Виджет отображения выбора ячейки на карте"
   ]
  },
  {
   "cell_type": "code",
   "execution_count": 11,
   "metadata": {},
   "outputs": [],
   "source": [
    "def cell_state(opacity,h):\n",
    "    cell_id=map_reg_state.id[h]\n",
    "    n=np.zeros(102)\n",
    "    n[h-1]=5\n",
    "    map_reg_state[0]=n\n",
    "        \n",
    "    print 'Region id :', cell_id\n",
    "    return display(get_map00(map_reg_state,opacity))"
   ]
  },
  {
   "cell_type": "code",
   "execution_count": 12,
   "metadata": {},
   "outputs": [],
   "source": [
    "map_cell_state_widg=interactive(cell_state,opacity=w_opacity,h=w_reg,)"
   ]
  },
  {
   "cell_type": "markdown",
   "metadata": {},
   "source": [
    "Виджет рисования графика числа поездок"
   ]
  },
  {
   "cell_type": "code",
   "execution_count": 13,
   "metadata": {},
   "outputs": [],
   "source": [
    "def get_graph_widget(m1,d1,h1,d2,h2,l_d, l_h, step, reg): #Обработка виджетов для рисования uhfabrjd\n",
    "    \n",
    " #   w_day_start.max=day_max_dic[w_month_start.value]\n",
    "    t1,t2= get_time_period()\n",
    "    wd1,wd2=get_days_of_week(t1,t2)\n",
    "    w_dw1.value='date:   '+t1[:13]+', '+wd1\n",
    "    w_dw2.value='date:   '+t2[:13]+', '+wd2\n",
    "    st=step_dic[step]\n",
    "    cell_id=map_reg_state.id[reg]\n",
    "            \n",
    "    #print t1,step_dic[step]\n",
    "   \n",
    "    print 'Region id : ', cell_id\n",
    "    return get_graph (cell_id,st,t1,t2)\n",
    "    \n",
    "    \n",
    "out_graph = widgets.interactive_output(get_graph_widget, \n",
    "    {'m1':w_month_start,'d1':w_day_start,'h1':w_hour_start,\n",
    "     'd2':w_day_length,'h2':w_hour_length,\n",
    "    'l_d':w_day_length,'l_h':w_hour_length,\n",
    "     'step':w_prediction_step,\n",
    "    'reg':w_reg})"
   ]
  },
  {
   "cell_type": "markdown",
   "metadata": {},
   "source": [
    "Ваш проект почти закончен!\n",
    "На этой неделе вам предстоит оформить результат, используя интерактивные графики.\n",
    "\n",
    "﻿Определитесь, в каком виде вы хотите представить ваш проект. Мы предлагаем вам сделать интерактивное демо, содержащее:\n",
    "\n",
    "карты с визуализацией реального и прогнозируемого спроса на такси в выбираемый пользователем момент времени\n",
    "временной ряд фактического и прогнозируемого спроса на такси в выбираемой области."
   ]
  },
  {
   "cell_type": "markdown",
   "metadata": {},
   "source": [
    "## Карты с визуализацией реального и прогнозируемого спроса на такси в выбираемый пользователем момент времени"
   ]
  },
  {
   "cell_type": "markdown",
   "metadata": {},
   "source": [
    "### Цветовая динамика числа поездок по районам\n",
    "#### в зависимости от : месяца, дня, часа и шага предсказания"
   ]
  },
  {
   "cell_type": "markdown",
   "metadata": {},
   "source": [
    "##### ! Из-за ограничений по объему прилагаемых файлов (<5Мб) для сдачи проекта пришлось урезать исходные данные по максимому: оставлен май, июнь и данные с шагами предсказания 1,3 и 6). В исходной версии все шаги (1-6) "
   ]
  },
  {
   "cell_type": "code",
   "execution_count": 14,
   "metadata": {},
   "outputs": [
    {
     "data": {
      "application/vnd.jupyter.widget-view+json": {
       "model_id": "64f469428bcc4deb902339a399de5fdc",
       "version_major": 2,
       "version_minor": 0
      },
      "text/plain": [
       "VkJveChjaGlsZHJlbj0oSEJveChjaGlsZHJlbj0oUmFkaW9CdXR0b25zKGRlc2NyaXB0aW9uPXUnTW9udGggc3RhcnQ6Jywgb3B0aW9ucz0oJ01heScsICdKdW4nKSwgdmFsdWU9J01heScpLCDigKY=\n"
      ]
     },
     "metadata": {},
     "output_type": "display_data"
    },
    {
     "data": {
      "application/vnd.jupyter.widget-view+json": {
       "model_id": "42f41aae652348c992ec58951f4dfbe2",
       "version_major": 2,
       "version_minor": 0
      },
      "text/plain": [
       "T3V0cHV0KG91dHB1dHM9KHt1J291dHB1dF90eXBlJzogdSdzdHJlYW0nLCB1J25hbWUnOiB1J3N0ZG91dCcsIHUndGV4dCc6IHUnM1xuJ30sIHt1J291dHB1dF90eXBlJzogdSdkaXNwbGF5X2TigKY=\n"
      ]
     },
     "metadata": {},
     "output_type": "display_data"
    }
   ],
   "source": [
    "display(w_map_color,out_m)"
   ]
  },
  {
   "cell_type": "markdown",
   "metadata": {},
   "source": [
    "## Временной ряд фактического и прогнозируемого спроса на такси в выбираемой области."
   ]
  },
  {
   "cell_type": "markdown",
   "metadata": {},
   "source": [
    "### Выберите интересуемую ячейку на карте"
   ]
  },
  {
   "cell_type": "code",
   "execution_count": 15,
   "metadata": {},
   "outputs": [
    {
     "data": {
      "application/vnd.jupyter.widget-view+json": {
       "model_id": "5b5d66fdfd254a3e9df31e9ef66ba633",
       "version_major": 2,
       "version_minor": 0
      },
      "text/plain": [
       "aW50ZXJhY3RpdmUoY2hpbGRyZW49KEZsb2F0U2xpZGVyKHZhbHVlPTIuMCwgZGVzY3JpcHRpb249dSdvcGFjaXR5OicsIG1heD0yLjApLCBJbnRTbGlkZXIodmFsdWU9MzAsIGRlc2NyaXB0aW/igKY=\n"
      ]
     },
     "metadata": {},
     "output_type": "display_data"
    }
   ],
   "source": [
    "display(map_cell_state_widg)"
   ]
  },
  {
   "cell_type": "markdown",
   "metadata": {},
   "source": [
    "### Для выбранной ячейки представлен график числа поездок в час: предсказанный и фактический в зависимости от шага предсказания"
   ]
  },
  {
   "cell_type": "markdown",
   "metadata": {},
   "source": [
    "#### Окно периода задается точкой начала (месяц, день, час) и длительностью периода (дни+часы)"
   ]
  },
  {
   "cell_type": "code",
   "execution_count": 16,
   "metadata": {},
   "outputs": [
    {
     "data": {
      "application/vnd.jupyter.widget-view+json": {
       "model_id": "62b89b22854c4ddba34dd4240c6d215b",
       "version_major": 2,
       "version_minor": 0
      },
      "text/plain": [
       "VkJveChjaGlsZHJlbj0oSEJveChjaGlsZHJlbj0oUmFkaW9CdXR0b25zKGRlc2NyaXB0aW9uPXUnTW9udGggc3RhcnQ6Jywgb3B0aW9ucz0oJ01heScsICdKdW4nKSwgdmFsdWU9J01heScpLCDigKY=\n"
      ]
     },
     "metadata": {},
     "output_type": "display_data"
    },
    {
     "data": {
      "application/vnd.jupyter.widget-view+json": {
       "model_id": "52db55c441d9480b89670e44e540b77d",
       "version_major": 2,
       "version_minor": 0
      },
      "text/plain": [
       "T3V0cHV0KG91dHB1dHM9KHt1J291dHB1dF90eXBlJzogdSdzdHJlYW0nLCB1J25hbWUnOiB1J3N0ZG91dCcsIHUndGV4dCc6IHUnUmVnaW9uIGlkIDogIDEyMjdcbid9LCB7dSdvdXRwdXRfdHnigKY=\n"
      ]
     },
     "metadata": {},
     "output_type": "display_data"
    }
   ],
   "source": [
    "display(w_main,out_graph,)"
   ]
  },
  {
   "cell_type": "code",
   "execution_count": null,
   "metadata": {},
   "outputs": [],
   "source": []
  }
 ],
 "metadata": {
  "kernelspec": {
   "display_name": "Python 2",
   "language": "python",
   "name": "python2"
  },
  "language_info": {
   "codemirror_mode": {
    "name": "ipython",
    "version": 2
   },
   "file_extension": ".py",
   "mimetype": "text/x-python",
   "name": "python",
   "nbconvert_exporter": "python",
   "pygments_lexer": "ipython2",
   "version": "2.7.15"
  },
  "widgets": {
   "application/vnd.jupyter.widget-state+json": {
    "state": {
     "00fadbe6cd5f4b5b81991baee47201c3": {
      "model_module": "@jupyter-widgets/controls",
      "model_module_version": "1.4.0",
      "model_name": "HBoxModel",
      "state": {
       "children": [
        "IPY_MODEL_edc9ae12be28419d872e755ccf1feb5e",
        "IPY_MODEL_c68381d40e9b43d6961cf91ffac3bb4c"
       ],
       "layout": "IPY_MODEL_999f25f6b75445c08ba58a271952e225"
      }
     },
     "0209b9735a904e859a654b386072f8bc": {
      "model_module": "@jupyter-widgets/controls",
      "model_module_version": "1.4.0",
      "model_name": "HBoxModel",
      "state": {
       "children": [
        "IPY_MODEL_a35f77b86f76460ea9d6029d62ee643c",
        "IPY_MODEL_2c9fb7da21e549508cb84c11a79d935a",
        "IPY_MODEL_2447bdddeaf348e1a47c4c9630accea1"
       ],
       "layout": "IPY_MODEL_afb87ed57faa4c0e9dad1f2b99747126"
      }
     },
     "02a03658b4494799b077c63b319b4b32": {
      "model_module": "@jupyter-widgets/controls",
      "model_module_version": "1.4.0",
      "model_name": "VBoxModel",
      "state": {
       "children": [
        "IPY_MODEL_28a33bf68cc341d290fcb5f077a2cbe2",
        "IPY_MODEL_b18aba17118e4fc394debf307f917d9e",
        "IPY_MODEL_1fbf8f5386154ce6a0196b09710da5ac"
       ],
       "layout": "IPY_MODEL_f9a1fbe7bfd34d8293f7394e4e9a2a63"
      }
     },
     "0327ab37e6374ce5a48c64dba7aa5603": {
      "model_module": "@jupyter-widgets/base",
      "model_module_version": "1.1.0",
      "model_name": "LayoutModel",
      "state": {}
     },
     "035b8247b2a64d329f87e1c8e4fe8d41": {
      "model_module": "@jupyter-widgets/controls",
      "model_module_version": "1.4.0",
      "model_name": "DescriptionStyleModel",
      "state": {
       "description_width": ""
      }
     },
     "0679b4aded5c4c28b5d2f2822350e142": {
      "model_module": "@jupyter-widgets/base",
      "model_module_version": "1.1.0",
      "model_name": "LayoutModel",
      "state": {}
     },
     "090bf119c9ba43e0ba9a1435c28bb91e": {
      "model_module": "@jupyter-widgets/base",
      "model_module_version": "1.1.0",
      "model_name": "LayoutModel",
      "state": {}
     },
     "09320a23ffc7499283871e14d76bc381": {
      "model_module": "@jupyter-widgets/controls",
      "model_module_version": "1.4.0",
      "model_name": "DescriptionStyleModel",
      "state": {
       "description_width": ""
      }
     },
     "0bc2a2fa90854e0d98f5d18c3f32add9": {
      "model_module": "@jupyter-widgets/controls",
      "model_module_version": "1.4.0",
      "model_name": "IntSliderModel",
      "state": {
       "description": "in hours:",
       "layout": "IPY_MODEL_5f088420fbbc4c16a741d13338f6a657",
       "max": 23,
       "style": "IPY_MODEL_a629836854bb407fac53215b443d9563",
       "value": 23
      }
     },
     "0be075e0913b41e8a36473301274fe5c": {
      "model_module": "@jupyter-widgets/base",
      "model_module_version": "1.1.0",
      "model_name": "LayoutModel",
      "state": {}
     },
     "10d591fd41c74f1bacb2aa550108084d": {
      "model_module": "@jupyter-widgets/base",
      "model_module_version": "1.1.0",
      "model_name": "LayoutModel",
      "state": {}
     },
     "1123ac9d8a1b44878e6fb618b499fa17": {
      "model_module": "@jupyter-widgets/base",
      "model_module_version": "1.1.0",
      "model_name": "LayoutModel",
      "state": {}
     },
     "11c14b80a63d4617ae0dc2be740e342e": {
      "model_module": "@jupyter-widgets/controls",
      "model_module_version": "1.4.0",
      "model_name": "IntSliderModel",
      "state": {
       "description": "hour start",
       "layout": "IPY_MODEL_470e79e3dc7c4123896453608b1c38d6",
       "max": 23,
       "style": "IPY_MODEL_f1db6041b49048c8ad9b81a976407529"
      }
     },
     "13193612fc2c42708b1311b417685acd": {
      "model_module": "@jupyter-widgets/controls",
      "model_module_version": "1.4.0",
      "model_name": "SliderStyleModel",
      "state": {
       "description_width": ""
      }
     },
     "140efa00b83648e297f343683c5a2276": {
      "model_module": "@jupyter-widgets/output",
      "model_module_version": "1.0.0",
      "model_name": "OutputModel",
      "state": {
       "layout": "IPY_MODEL_e1e258482ee04aca941bfbd7c84c3030",
       "outputs": [
        {
         "name": "stdout",
         "output_type": "stream",
         "text": "2016-02-01 00:00:00\n"
        }
       ]
      }
     },
     "150e780ca094458fba24f23e8c82e6eb": {
      "model_module": "@jupyter-widgets/base",
      "model_module_version": "1.1.0",
      "model_name": "LayoutModel",
      "state": {}
     },
     "17f1f4da5ac444ebbb67c392d1f5cfd9": {
      "model_module": "@jupyter-widgets/controls",
      "model_module_version": "1.4.0",
      "model_name": "SliderStyleModel",
      "state": {
       "description_width": ""
      }
     },
     "17fb5691dbdf4daeb5daee6054f58172": {
      "model_module": "@jupyter-widgets/controls",
      "model_module_version": "1.4.0",
      "model_name": "SliderStyleModel",
      "state": {
       "description_width": ""
      }
     },
     "189a225b5a5a46179df36aecb1ada3a8": {
      "model_module": "@jupyter-widgets/controls",
      "model_module_version": "1.4.0",
      "model_name": "SliderStyleModel",
      "state": {
       "description_width": ""
      }
     },
     "1bb5498ef86741fdada1786f942c01ce": {
      "model_module": "@jupyter-widgets/controls",
      "model_module_version": "1.4.0",
      "model_name": "VBoxModel",
      "state": {
       "children": [
        "IPY_MODEL_72e089bce2eb4b349d346c75c0347eee",
        "IPY_MODEL_49f46ee863704a70b8ecf44bb4df1ed2",
        "IPY_MODEL_8a6a992b364a489083403420803d3706"
       ],
       "layout": "IPY_MODEL_0327ab37e6374ce5a48c64dba7aa5603"
      }
     },
     "1f15547e11524d6bafd89c03ff5d3bfa": {
      "model_module": "@jupyter-widgets/controls",
      "model_module_version": "1.4.0",
      "model_name": "DescriptionStyleModel",
      "state": {
       "description_width": ""
      }
     },
     "1fbf8f5386154ce6a0196b09710da5ac": {
      "model_module": "@jupyter-widgets/controls",
      "model_module_version": "1.4.0",
      "model_name": "LabelModel",
      "state": {
       "layout": "IPY_MODEL_c8a60340d8ca449c9078d28abbb8464d",
       "style": "IPY_MODEL_1f15547e11524d6bafd89c03ff5d3bfa",
       "value": "date:   2016-02-01 00, MON"
      }
     },
     "211f1b95e67c48e094a8a684ff87c2bf": {
      "model_module": "@jupyter-widgets/controls",
      "model_module_version": "1.4.0",
      "model_name": "VBoxModel",
      "state": {
       "children": [
        "IPY_MODEL_b70c6fa6f86b4c64ac5f8b40bbd09771",
        "IPY_MODEL_11c14b80a63d4617ae0dc2be740e342e",
        "IPY_MODEL_e4c7802511644374992d149f7a16eb7e"
       ],
       "layout": "IPY_MODEL_49a566510f174e948c381d9528c08ac8"
      }
     },
     "22d95430aebe4c4f9c2dd4812820964c": {
      "model_module": "@jupyter-widgets/base",
      "model_module_version": "1.1.0",
      "model_name": "LayoutModel",
      "state": {}
     },
     "2326540a9a134e07ae16835e7a0a3575": {
      "model_module": "@jupyter-widgets/base",
      "model_module_version": "1.1.0",
      "model_name": "LayoutModel",
      "state": {}
     },
     "2447bdddeaf348e1a47c4c9630accea1": {
      "model_module": "@jupyter-widgets/controls",
      "model_module_version": "1.4.0",
      "model_name": "RadioButtonsModel",
      "state": {
       "_options_labels": [
        "step=1",
        "step=3",
        "step=6"
       ],
       "description": "Prediction on:",
       "index": 1,
       "layout": "IPY_MODEL_317a1416e2374d6bab35b9f38c84a894",
       "style": "IPY_MODEL_68ccddf7258d43e79c16b8716de8c662"
      }
     },
     "251260cc97ce443f8e78755d725e1767": {
      "model_module": "@jupyter-widgets/controls",
      "model_module_version": "1.4.0",
      "model_name": "DescriptionStyleModel",
      "state": {
       "description_width": ""
      }
     },
     "25b3b35d62ba4bde8fc78922a52278df": {
      "model_module": "@jupyter-widgets/base",
      "model_module_version": "1.1.0",
      "model_name": "LayoutModel",
      "state": {}
     },
     "25ea32d81c0840aea18df0058160d44e": {
      "model_module": "@jupyter-widgets/controls",
      "model_module_version": "1.4.0",
      "model_name": "RadioButtonsModel",
      "state": {
       "_options_labels": [
        "step=1",
        "step=2",
        "step=3",
        "step=4",
        "step=5",
        "step=6"
       ],
       "description": "Prediction on:",
       "index": 2,
       "layout": "IPY_MODEL_dd103d7a48854832975871b4cdb708c3",
       "style": "IPY_MODEL_79886672f3be4ae2b03b162776d2b4c1"
      }
     },
     "27451adba23b465e87a56cda4af66e45": {
      "model_module": "@jupyter-widgets/base",
      "model_module_version": "1.1.0",
      "model_name": "LayoutModel",
      "state": {}
     },
     "27cba18990164bfdadc16240c28b3b9e": {
      "model_module": "@jupyter-widgets/base",
      "model_module_version": "1.1.0",
      "model_name": "LayoutModel",
      "state": {}
     },
     "28a33bf68cc341d290fcb5f077a2cbe2": {
      "model_module": "@jupyter-widgets/controls",
      "model_module_version": "1.4.0",
      "model_name": "IntSliderModel",
      "state": {
       "description": "Day start:",
       "layout": "IPY_MODEL_a55e9af8e0ce4d8ca7a1eb7612e5a72a",
       "max": 29,
       "min": 1,
       "style": "IPY_MODEL_4a3fdefcb4e24789a9f08449aa7b0717",
       "value": 1
      }
     },
     "2c9fb7da21e549508cb84c11a79d935a": {
      "model_module": "@jupyter-widgets/controls",
      "model_module_version": "1.4.0",
      "model_name": "VBoxModel",
      "state": {
       "children": [
        "IPY_MODEL_c2bc05843978474691f14c4dab24e7b5",
        "IPY_MODEL_750e06e588ce4c27914c9a834a92cee6"
       ],
       "layout": "IPY_MODEL_e2fbd54917b64ce3a9ffa8cfff892962"
      }
     },
     "2e649b0781cc467f9b09da2081d0a795": {
      "model_module": "@jupyter-widgets/output",
      "model_module_version": "1.0.0",
      "model_name": "OutputModel",
      "state": {
       "layout": "IPY_MODEL_70186985c2074380b813d34435f0f0a3",
       "outputs": [
        {
         "ename": "TypeError",
         "evalue": "unsupported operand type(s) for -: 'str' and 'int'",
         "output_type": "error",
         "traceback": [
          "\u001b[1;31m---------------------------------------------------------------------------\u001b[0m",
          "\u001b[1;31mTypeError\u001b[0m                                 Traceback (most recent call last)",
          "\u001b[1;32mC:\\Users\\Alexey\\Anaconda2\\lib\\site-packages\\ipywidgets\\widgets\\interaction.pyc\u001b[0m in \u001b[0;36mobserver\u001b[1;34m(change)\u001b[0m\n\u001b[0;32m     72\u001b[0m         \u001b[1;32mwith\u001b[0m \u001b[0mout\u001b[0m\u001b[1;33m:\u001b[0m\u001b[1;33m\u001b[0m\u001b[0m\n\u001b[0;32m     73\u001b[0m             \u001b[0mclear_output\u001b[0m\u001b[1;33m(\u001b[0m\u001b[0mwait\u001b[0m\u001b[1;33m=\u001b[0m\u001b[0mTrue\u001b[0m\u001b[1;33m)\u001b[0m\u001b[1;33m\u001b[0m\u001b[0m\n\u001b[1;32m---> 74\u001b[1;33m             \u001b[0mf\u001b[0m\u001b[1;33m(\u001b[0m\u001b[1;33m**\u001b[0m\u001b[0mkwargs\u001b[0m\u001b[1;33m)\u001b[0m\u001b[1;33m\u001b[0m\u001b[0m\n\u001b[0m\u001b[0;32m     75\u001b[0m             \u001b[0mshow_inline_matplotlib_plots\u001b[0m\u001b[1;33m(\u001b[0m\u001b[1;33m)\u001b[0m\u001b[1;33m\u001b[0m\u001b[0m\n\u001b[0;32m     76\u001b[0m     \u001b[1;32mfor\u001b[0m \u001b[0mk\u001b[0m\u001b[1;33m,\u001b[0m\u001b[0mw\u001b[0m \u001b[1;32min\u001b[0m \u001b[0mcontrols\u001b[0m\u001b[1;33m.\u001b[0m\u001b[0mitems\u001b[0m\u001b[1;33m(\u001b[0m\u001b[1;33m)\u001b[0m\u001b[1;33m:\u001b[0m\u001b[1;33m\u001b[0m\u001b[0m\n",
          "\u001b[1;32m<ipython-input-37-f1c31df5beab>\u001b[0m in \u001b[0;36mconnection_f\u001b[1;34m(m1, d1, h1, d2, h2, l_d, l_h, step)\u001b[0m\n\u001b[0;32m      6\u001b[0m     \u001b[0mw_dw1\u001b[0m\u001b[1;33m.\u001b[0m\u001b[0mvalue\u001b[0m\u001b[1;33m=\u001b[0m\u001b[1;34m'date:   '\u001b[0m\u001b[1;33m+\u001b[0m\u001b[0mt1\u001b[0m\u001b[1;33m[\u001b[0m\u001b[1;33m:\u001b[0m\u001b[1;36m13\u001b[0m\u001b[1;33m]\u001b[0m\u001b[1;33m+\u001b[0m\u001b[1;34m', '\u001b[0m\u001b[1;33m+\u001b[0m\u001b[0mwd1\u001b[0m\u001b[1;33m\u001b[0m\u001b[0m\n\u001b[0;32m      7\u001b[0m     \u001b[0mw_dw2\u001b[0m\u001b[1;33m.\u001b[0m\u001b[0mvalue\u001b[0m\u001b[1;33m=\u001b[0m\u001b[1;34m'date:   '\u001b[0m\u001b[1;33m+\u001b[0m\u001b[0mt2\u001b[0m\u001b[1;33m[\u001b[0m\u001b[1;33m:\u001b[0m\u001b[1;36m13\u001b[0m\u001b[1;33m]\u001b[0m\u001b[1;33m+\u001b[0m\u001b[1;34m', '\u001b[0m\u001b[1;33m+\u001b[0m\u001b[0mwd2\u001b[0m\u001b[1;33m\u001b[0m\u001b[0m\n\u001b[1;32m----> 8\u001b[1;33m     \u001b[0mget_graph\u001b[0m \u001b[1;33m(\u001b[0m\u001b[0mr\u001b[0m\u001b[1;33m,\u001b[0m\u001b[0mstep\u001b[0m\u001b[1;33m,\u001b[0m\u001b[0mt1\u001b[0m\u001b[1;33m,\u001b[0m\u001b[0mt2\u001b[0m\u001b[1;33m)\u001b[0m\u001b[1;33m\u001b[0m\u001b[0m\n\u001b[0m\u001b[0;32m      9\u001b[0m \u001b[1;33m\u001b[0m\u001b[0m\n\u001b[0;32m     10\u001b[0m     \u001b[1;32mprint\u001b[0m \u001b[0mget_time_period\u001b[0m\u001b[1;33m(\u001b[0m\u001b[1;33m)\u001b[0m\u001b[1;33m[\u001b[0m\u001b[1;36m0\u001b[0m\u001b[1;33m]\u001b[0m\u001b[1;33m\u001b[0m\u001b[0m\n",
          "\u001b[1;32m<ipython-input-56-44aa79bd5ca7>\u001b[0m in \u001b[0;36mget_graph\u001b[1;34m(r, step, t1, t2)\u001b[0m\n\u001b[0;32m      1\u001b[0m \u001b[1;32mdef\u001b[0m \u001b[0mget_graph\u001b[0m \u001b[1;33m(\u001b[0m\u001b[0mr\u001b[0m\u001b[1;33m,\u001b[0m\u001b[0mstep\u001b[0m\u001b[1;33m,\u001b[0m\u001b[0mt1\u001b[0m\u001b[1;33m,\u001b[0m\u001b[0mt2\u001b[0m\u001b[1;33m)\u001b[0m\u001b[1;33m:\u001b[0m\u001b[1;33m\u001b[0m\u001b[0m\n\u001b[1;32m----> 2\u001b[1;33m     \u001b[0mdf\u001b[0m\u001b[1;33m=\u001b[0m\u001b[0mget_df\u001b[0m\u001b[1;33m(\u001b[0m\u001b[0mr\u001b[0m\u001b[1;33m,\u001b[0m\u001b[0mstep\u001b[0m\u001b[1;33m,\u001b[0m\u001b[0mt1\u001b[0m\u001b[1;33m,\u001b[0m\u001b[0mt2\u001b[0m\u001b[1;33m)\u001b[0m\u001b[1;33m\u001b[0m\u001b[0m\n\u001b[0m\u001b[0;32m      3\u001b[0m     \u001b[0mplt\u001b[0m\u001b[1;33m.\u001b[0m\u001b[0mfigure\u001b[0m\u001b[1;33m(\u001b[0m\u001b[0mfigsize\u001b[0m\u001b[1;33m=\u001b[0m\u001b[1;33m(\u001b[0m\u001b[1;36m18\u001b[0m\u001b[1;33m,\u001b[0m\u001b[1;36m5\u001b[0m\u001b[1;33m)\u001b[0m\u001b[1;33m)\u001b[0m\u001b[1;33m\u001b[0m\u001b[0m\n\u001b[0;32m      4\u001b[0m     \u001b[0mplt\u001b[0m\u001b[1;33m.\u001b[0m\u001b[0mplot\u001b[0m\u001b[1;33m(\u001b[0m\u001b[0mdf\u001b[0m\u001b[1;33m.\u001b[0m\u001b[0miloc\u001b[0m\u001b[1;33m[\u001b[0m\u001b[1;33m:\u001b[0m\u001b[1;33m,\u001b[0m\u001b[1;36m0\u001b[0m\u001b[1;33m]\u001b[0m\u001b[1;33m)\u001b[0m\u001b[1;33m\u001b[0m\u001b[0m\n\u001b[0;32m      5\u001b[0m     \u001b[1;31m#plt.plot(df.iloc[:,1])\u001b[0m\u001b[1;33m\u001b[0m\u001b[1;33m\u001b[0m\u001b[0m\n",
          "\u001b[1;32m<ipython-input-32-3c4657e824d5>\u001b[0m in \u001b[0;36mget_df\u001b[1;34m(r, step, t1, t2)\u001b[0m\n\u001b[0;32m      1\u001b[0m \u001b[1;32mdef\u001b[0m \u001b[0mget_df\u001b[0m\u001b[1;33m(\u001b[0m\u001b[0mr\u001b[0m\u001b[1;33m,\u001b[0m\u001b[0mstep\u001b[0m\u001b[1;33m,\u001b[0m\u001b[0mt1\u001b[0m\u001b[1;33m,\u001b[0m\u001b[0mt2\u001b[0m\u001b[1;33m)\u001b[0m\u001b[1;33m:\u001b[0m\u001b[1;33m\u001b[0m\u001b[0m\n\u001b[1;32m----> 2\u001b[1;33m     \u001b[0mcol\u001b[0m\u001b[1;33m=\u001b[0m\u001b[0mget_cols\u001b[0m\u001b[1;33m(\u001b[0m\u001b[0mr\u001b[0m\u001b[1;33m,\u001b[0m\u001b[0mstep\u001b[0m\u001b[1;33m)\u001b[0m\u001b[1;33m\u001b[0m\u001b[0m\n\u001b[0m\u001b[0;32m      3\u001b[0m     \u001b[1;32mreturn\u001b[0m \u001b[0mdf0\u001b[0m\u001b[1;33m[\u001b[0m\u001b[0mcol\u001b[0m\u001b[1;33m]\u001b[0m\u001b[1;33m[\u001b[0m\u001b[0mt1\u001b[0m\u001b[1;33m:\u001b[0m\u001b[0mt2\u001b[0m\u001b[1;33m]\u001b[0m\u001b[1;33m\u001b[0m\u001b[0m\n",
          "\u001b[1;32m<ipython-input-5-ed9c61b443bf>\u001b[0m in \u001b[0;36mget_cols\u001b[1;34m(r, j)\u001b[0m\n\u001b[0;32m      1\u001b[0m \u001b[1;32mdef\u001b[0m \u001b[0mget_cols\u001b[0m\u001b[1;33m(\u001b[0m\u001b[0mr\u001b[0m\u001b[1;33m,\u001b[0m\u001b[0mj\u001b[0m\u001b[1;33m)\u001b[0m\u001b[1;33m:\u001b[0m\u001b[1;33m\u001b[0m\u001b[0m\n\u001b[0;32m      2\u001b[0m     \u001b[0mr\u001b[0m\u001b[1;33m=\u001b[0m\u001b[0mstr\u001b[0m\u001b[1;33m(\u001b[0m\u001b[0mr\u001b[0m\u001b[1;33m)\u001b[0m\u001b[1;33m\u001b[0m\u001b[0m\n\u001b[1;32m----> 3\u001b[1;33m     \u001b[0mj\u001b[0m\u001b[1;33m=\u001b[0m\u001b[0mj\u001b[0m\u001b[1;33m-\u001b[0m\u001b[1;36m1\u001b[0m\u001b[1;33m\u001b[0m\u001b[0m\n\u001b[0m\u001b[0;32m      4\u001b[0m     \u001b[0myr_name\u001b[0m\u001b[1;33m=\u001b[0m\u001b[1;33m[\u001b[0m\u001b[0mr\u001b[0m\u001b[1;33m+\u001b[0m\u001b[1;34m'y_'\u001b[0m\u001b[1;33m+\u001b[0m\u001b[0mstr\u001b[0m\u001b[1;33m(\u001b[0m\u001b[0mi\u001b[0m\u001b[1;33m)\u001b[0m \u001b[1;32mfor\u001b[0m \u001b[0mi\u001b[0m \u001b[1;32min\u001b[0m \u001b[0mrange\u001b[0m\u001b[1;33m(\u001b[0m\u001b[1;36m1\u001b[0m\u001b[1;33m,\u001b[0m\u001b[1;36m7\u001b[0m\u001b[1;33m)\u001b[0m\u001b[1;33m]\u001b[0m\u001b[1;33m\u001b[0m\u001b[0m\n\u001b[0;32m      5\u001b[0m     \u001b[0mypr_name\u001b[0m\u001b[1;33m=\u001b[0m\u001b[1;33m[\u001b[0m\u001b[0mr\u001b[0m\u001b[1;33m+\u001b[0m\u001b[1;34m'ypr_'\u001b[0m\u001b[1;33m+\u001b[0m\u001b[0mstr\u001b[0m\u001b[1;33m(\u001b[0m\u001b[0mi\u001b[0m\u001b[1;33m)\u001b[0m \u001b[1;32mfor\u001b[0m \u001b[0mi\u001b[0m \u001b[1;32min\u001b[0m \u001b[0mrange\u001b[0m\u001b[1;33m(\u001b[0m\u001b[1;36m1\u001b[0m\u001b[1;33m,\u001b[0m\u001b[1;36m7\u001b[0m\u001b[1;33m)\u001b[0m\u001b[1;33m]\u001b[0m\u001b[1;33m\u001b[0m\u001b[0m\n",
          "\u001b[1;31mTypeError\u001b[0m: unsupported operand type(s) for -: 'str' and 'int'"
         ]
        }
       ]
      }
     },
     "30d7e9d5649949ae8c97b907c095557a": {
      "model_module": "@jupyter-widgets/controls",
      "model_module_version": "1.4.0",
      "model_name": "HBoxModel",
      "state": {
       "children": [
        "IPY_MODEL_6930448862b640488cef285475f91da6",
        "IPY_MODEL_c0ee6920ac634a1ab195d35b5d1ac3a1",
        "IPY_MODEL_48719c349baf491f9f7e7cef6ab17d40"
       ],
       "layout": "IPY_MODEL_e4f71e38941945f9bd3ae8cb50567f3f"
      }
     },
     "31210d989b5b4c5fbf114934293eadd6": {
      "model_module": "@jupyter-widgets/controls",
      "model_module_version": "1.4.0",
      "model_name": "IntSliderModel",
      "state": {
       "description": "in hours:",
       "layout": "IPY_MODEL_27451adba23b465e87a56cda4af66e45",
       "max": 23,
       "style": "IPY_MODEL_e07b2adc22b34ff784923a3de219d6b2",
       "value": 23
      }
     },
     "317a1416e2374d6bab35b9f38c84a894": {
      "model_module": "@jupyter-widgets/base",
      "model_module_version": "1.1.0",
      "model_name": "LayoutModel",
      "state": {}
     },
     "31d3b8f201a34a9c8db3451bc6da9ebe": {
      "model_module": "@jupyter-widgets/controls",
      "model_module_version": "1.4.0",
      "model_name": "SliderStyleModel",
      "state": {
       "description_width": ""
      }
     },
     "34f7997ccb3a458b8cb68472ea3f1825": {
      "model_module": "@jupyter-widgets/controls",
      "model_module_version": "1.4.0",
      "model_name": "IntSliderModel",
      "state": {
       "description": "in days:",
       "layout": "IPY_MODEL_f38992498f4849699c7bcd3c150d9708",
       "max": 45,
       "style": "IPY_MODEL_cf05c1f55fa2469baf951c84ea9f023d"
      }
     },
     "35c8caa0ec5c4654bd2dd15c7a66266b": {
      "model_module": "@jupyter-widgets/controls",
      "model_module_version": "1.4.0",
      "model_name": "HBoxModel",
      "state": {
       "children": [
        "IPY_MODEL_1bb5498ef86741fdada1786f942c01ce",
        "IPY_MODEL_7fc14de3b20c499e87407949881faea0"
       ],
       "layout": "IPY_MODEL_0679b4aded5c4c28b5d2f2822350e142"
      }
     },
     "3636afebfca04431b52f9c8f0bf4f837": {
      "model_module": "@jupyter-widgets/base",
      "model_module_version": "1.1.0",
      "model_name": "LayoutModel",
      "state": {}
     },
     "370341aaee2549bc93a23002c3a3bfda": {
      "model_module": "@jupyter-widgets/controls",
      "model_module_version": "1.4.0",
      "model_name": "HBoxModel",
      "state": {
       "children": [
        "IPY_MODEL_a9db18a7002445fbbb49b14413f401cf",
        "IPY_MODEL_02a03658b4494799b077c63b319b4b32",
        "IPY_MODEL_25ea32d81c0840aea18df0058160d44e"
       ],
       "layout": "IPY_MODEL_4ed8001eba0541948f879920a3e94ce4"
      }
     },
     "3a1f66f496cc42cc8f1f8801966b1d0a": {
      "model_module": "@jupyter-widgets/controls",
      "model_module_version": "1.4.0",
      "model_name": "RadioButtonsModel",
      "state": {
       "_options_labels": [
        "Nov",
        "Dec",
        "Jan",
        "Feb",
        "Mar",
        "Apr",
        "May",
        "Jun"
       ],
       "description": "Month start:",
       "index": 3,
       "layout": "IPY_MODEL_fd49e27815b440808091449a3fa8c951",
       "style": "IPY_MODEL_bde79f7cd7694aff85b68d2aeece70d5"
      }
     },
     "3a38543fb6944a1cb3c373a996ad6ed2": {
      "model_module": "@jupyter-widgets/controls",
      "model_module_version": "1.4.0",
      "model_name": "SliderStyleModel",
      "state": {
       "description_width": ""
      }
     },
     "3e3e78e4a9924c8db1b833d77787e6ec": {
      "model_module": "@jupyter-widgets/base",
      "model_module_version": "1.1.0",
      "model_name": "LayoutModel",
      "state": {}
     },
     "3e656aed17964eb1b0ce56dda1d377b0": {
      "model_module": "@jupyter-widgets/controls",
      "model_module_version": "1.4.0",
      "model_name": "LabelModel",
      "state": {
       "layout": "IPY_MODEL_5de9b47f291648caafaaa4f4c2f89bf1",
       "style": "IPY_MODEL_d5683a12339640fcb572d2f2f3c8ad71",
       "value": "date:   2016-04-10 00, SUN"
      }
     },
     "419588876e5d4bdab779303e051ebf72": {
      "model_module": "@jupyter-widgets/controls",
      "model_module_version": "1.4.0",
      "model_name": "IntSliderModel",
      "state": {
       "description": "in days:",
       "layout": "IPY_MODEL_85490af65710490d97deb1e428e88301",
       "max": 45,
       "style": "IPY_MODEL_cc6f7d780c44486ea055651ec6816ba0"
      }
     },
     "41c862266581484986ddc843d5ae0d92": {
      "model_module": "@jupyter-widgets/controls",
      "model_module_version": "1.4.0",
      "model_name": "DescriptionStyleModel",
      "state": {
       "description_width": ""
      }
     },
     "42f41aae652348c992ec58951f4dfbe2": {
      "model_module": "@jupyter-widgets/output",
      "model_module_version": "1.0.0",
      "model_name": "OutputModel",
      "state": {
       "layout": "IPY_MODEL_090bf119c9ba43e0ba9a1435c28bb91e",
       "outputs": [
        {
         "name": "stdout",
         "output_type": "stream",
         "text": "3\n"
        },
        {
         "data": {
          "text/html": "<div style=\"width:100%;\"><div style=\"position:relative;width:100%;height:0;padding-bottom:60%;\"><iframe src=\"data:text/html;charset=utf-8;base64,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\" style=\"position:absolute;width:100%;height:100%;left:0;top:0;border:none !important;\" allowfullscreen webkitallowfullscreen mozallowfullscreen></iframe></div></div>",
          "text/plain": "<folium.folium.Map at 0xfca24a8>"
         },
         "metadata": {},
         "output_type": "display_data"
        }
       ]
      }
     },
     "470e79e3dc7c4123896453608b1c38d6": {
      "model_module": "@jupyter-widgets/base",
      "model_module_version": "1.1.0",
      "model_name": "LayoutModel",
      "state": {}
     },
     "47a0d17de77a40d6a2eaddbad9ec8c98": {
      "model_module": "@jupyter-widgets/controls",
      "model_module_version": "1.4.0",
      "model_name": "SliderStyleModel",
      "state": {
       "description_width": ""
      }
     },
     "48719c349baf491f9f7e7cef6ab17d40": {
      "model_module": "@jupyter-widgets/controls",
      "model_module_version": "1.4.0",
      "model_name": "RadioButtonsModel",
      "state": {
       "_options_labels": [
        "step=1",
        "step=2",
        "step=3",
        "step=4",
        "step=5",
        "step=6"
       ],
       "description": "Prediction on:",
       "index": 5,
       "layout": "IPY_MODEL_ad1bf11c28834a8aa2fc33ebe0de05ba",
       "style": "IPY_MODEL_c712be646120409f9026b57246ef5cf4"
      }
     },
     "49a566510f174e948c381d9528c08ac8": {
      "model_module": "@jupyter-widgets/base",
      "model_module_version": "1.1.0",
      "model_name": "LayoutModel",
      "state": {}
     },
     "49f46ee863704a70b8ecf44bb4df1ed2": {
      "model_module": "@jupyter-widgets/controls",
      "model_module_version": "1.4.0",
      "model_name": "IntSliderModel",
      "state": {
       "description": "in days:",
       "layout": "IPY_MODEL_8ae5b0ea2b0143b38c255069cac95028",
       "max": 45,
       "style": "IPY_MODEL_d2c5a94373e045098735c27c1fdfcbac",
       "value": 3
      }
     },
     "4a154026693a4efb9a50b2472154aca4": {
      "model_module": "@jupyter-widgets/base",
      "model_module_version": "1.1.0",
      "model_name": "LayoutModel",
      "state": {}
     },
     "4a3fdefcb4e24789a9f08449aa7b0717": {
      "model_module": "@jupyter-widgets/controls",
      "model_module_version": "1.4.0",
      "model_name": "SliderStyleModel",
      "state": {
       "description_width": ""
      }
     },
     "4a7f8a37fd3a4bfabb8e46d7f4c67f61": {
      "model_module": "@jupyter-widgets/base",
      "model_module_version": "1.1.0",
      "model_name": "LayoutModel",
      "state": {}
     },
     "4b4d35c660744818bb9e0284a2b97eb8": {
      "model_module": "@jupyter-widgets/base",
      "model_module_version": "1.1.0",
      "model_name": "LayoutModel",
      "state": {}
     },
     "4ed8001eba0541948f879920a3e94ce4": {
      "model_module": "@jupyter-widgets/base",
      "model_module_version": "1.1.0",
      "model_name": "LayoutModel",
      "state": {}
     },
     "4fb704400d3a4162acd3c66f2e824e2f": {
      "model_module": "@jupyter-widgets/controls",
      "model_module_version": "1.4.0",
      "model_name": "SliderStyleModel",
      "state": {
       "description_width": ""
      }
     },
     "52d95e391caa41be9f903b74ee853abe": {
      "model_module": "@jupyter-widgets/base",
      "model_module_version": "1.1.0",
      "model_name": "LayoutModel",
      "state": {}
     },
     "52db55c441d9480b89670e44e540b77d": {
      "model_module": "@jupyter-widgets/output",
      "model_module_version": "1.0.0",
      "model_name": "OutputModel",
      "state": {
       "layout": "IPY_MODEL_792a1377386648ac9b2f143378dc0c25",
       "outputs": [
        {
         "name": "stdout",
         "output_type": "stream",
         "text": "Region id :  1227\n"
        },
        {
         "data": {
          "image/png": "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\n",
          "text/plain": "<Figure size 1296x360 with 1 Axes>"
         },
         "metadata": {
          "needs_background": "light"
         },
         "output_type": "display_data"
        }
       ]
      }
     },
     "54d4f33ec67047ac831289ae97c42162": {
      "model_module": "@jupyter-widgets/controls",
      "model_module_version": "1.4.0",
      "model_name": "DescriptionStyleModel",
      "state": {
       "description_width": ""
      }
     },
     "560c19761063460e81e8a5dcfbae267b": {
      "model_module": "@jupyter-widgets/base",
      "model_module_version": "1.1.0",
      "model_name": "LayoutModel",
      "state": {}
     },
     "569ce273027e45b8b77d81461746d348": {
      "model_module": "@jupyter-widgets/base",
      "model_module_version": "1.1.0",
      "model_name": "LayoutModel",
      "state": {}
     },
     "571cd28e2fa4427d88d474f063eb476f": {
      "model_module": "@jupyter-widgets/base",
      "model_module_version": "1.1.0",
      "model_name": "LayoutModel",
      "state": {}
     },
     "574acf9c625744df95dc3d6ccbcedc66": {
      "model_module": "@jupyter-widgets/controls",
      "model_module_version": "1.4.0",
      "model_name": "VBoxModel",
      "state": {
       "children": [
        "IPY_MODEL_e5c72273e4e24c3b9f502551baf8bd29",
        "IPY_MODEL_691445421f0f4ac68ef48e5d50c47748",
        "IPY_MODEL_e0f2aacb01a54064961a3fe4bacc936e"
       ],
       "layout": "IPY_MODEL_c8eba279cd6d4d5daa334153013b60e8"
      }
     },
     "585d1622fe09496cad90139e594a827d": {
      "model_module": "@jupyter-widgets/controls",
      "model_module_version": "1.4.0",
      "model_name": "DescriptionStyleModel",
      "state": {
       "description_width": ""
      }
     },
     "5b5d66fdfd254a3e9df31e9ef66ba633": {
      "model_module": "@jupyter-widgets/controls",
      "model_module_version": "1.4.0",
      "model_name": "VBoxModel",
      "state": {
       "_dom_classes": [
        "widget-interact"
       ],
       "children": [
        "IPY_MODEL_6259db2a878547a5869150249e978a1c",
        "IPY_MODEL_ce7048e6d050422aa90addee4cc96746",
        "IPY_MODEL_7450d8ea949245d3b981616adf05f81a"
       ],
       "layout": "IPY_MODEL_ca549cb2bcde4f22949f929d6c244499"
      }
     },
     "5bcccc7214fd4252bae12ac2c9e76d2d": {
      "model_module": "@jupyter-widgets/controls",
      "model_module_version": "1.4.0",
      "model_name": "LabelModel",
      "state": {
       "layout": "IPY_MODEL_0be075e0913b41e8a36473301274fe5c",
       "style": "IPY_MODEL_251260cc97ce443f8e78755d725e1767"
      }
     },
     "5c0ecec72ac0446f91d1f5e8b614a961": {
      "model_module": "@jupyter-widgets/base",
      "model_module_version": "1.1.0",
      "model_name": "LayoutModel",
      "state": {}
     },
     "5cff4dd4fa594dbeabdb073a1d8aff97": {
      "model_module": "@jupyter-widgets/base",
      "model_module_version": "1.1.0",
      "model_name": "LayoutModel",
      "state": {}
     },
     "5d61fbec4f00408a869d9bf2e910af13": {
      "model_module": "@jupyter-widgets/base",
      "model_module_version": "1.1.0",
      "model_name": "LayoutModel",
      "state": {}
     },
     "5de9b47f291648caafaaa4f4c2f89bf1": {
      "model_module": "@jupyter-widgets/base",
      "model_module_version": "1.1.0",
      "model_name": "LayoutModel",
      "state": {}
     },
     "5f088420fbbc4c16a741d13338f6a657": {
      "model_module": "@jupyter-widgets/base",
      "model_module_version": "1.1.0",
      "model_name": "LayoutModel",
      "state": {}
     },
     "5f47f3f2005b419dafcee59d947f2fe0": {
      "model_module": "@jupyter-widgets/controls",
      "model_module_version": "1.4.0",
      "model_name": "DescriptionStyleModel",
      "state": {
       "description_width": ""
      }
     },
     "5fbcc7e8a076442cb34fc0586a45eebf": {
      "model_module": "@jupyter-widgets/base",
      "model_module_version": "1.1.0",
      "model_name": "LayoutModel",
      "state": {}
     },
     "6259db2a878547a5869150249e978a1c": {
      "model_module": "@jupyter-widgets/controls",
      "model_module_version": "1.4.0",
      "model_name": "FloatSliderModel",
      "state": {
       "description": "opacity:",
       "layout": "IPY_MODEL_f8e12fec346b491e8f469bc0f0a5b1b3",
       "max": 2,
       "step": 0.1,
       "style": "IPY_MODEL_17fb5691dbdf4daeb5daee6054f58172",
       "value": 2
      }
     },
     "62b89b22854c4ddba34dd4240c6d215b": {
      "model_module": "@jupyter-widgets/controls",
      "model_module_version": "1.4.0",
      "model_name": "VBoxModel",
      "state": {
       "children": [
        "IPY_MODEL_f68bffaaf6764237a92f17fe78d60db4",
        "IPY_MODEL_00fadbe6cd5f4b5b81991baee47201c3"
       ],
       "layout": "IPY_MODEL_a57ab301028e4124b0a92c941c3cca57"
      }
     },
     "6411bd624fb242f79cc7134f5d35fedf": {
      "model_module": "@jupyter-widgets/base",
      "model_module_version": "1.1.0",
      "model_name": "LayoutModel",
      "state": {}
     },
     "646622ae14e84ab0a45260f7c24fbf88": {
      "model_module": "@jupyter-widgets/base",
      "model_module_version": "1.1.0",
      "model_name": "LayoutModel",
      "state": {}
     },
     "64f469428bcc4deb902339a399de5fdc": {
      "model_module": "@jupyter-widgets/controls",
      "model_module_version": "1.4.0",
      "model_name": "VBoxModel",
      "state": {
       "children": [
        "IPY_MODEL_d7bdc437ce934c848f43fa029f63b799",
        "IPY_MODEL_ef6aea96c41f427ab39d23382c9fc4c8"
       ],
       "layout": "IPY_MODEL_22d95430aebe4c4f9c2dd4812820964c"
      }
     },
     "65ff35fedad44aabbf4343443dff8c63": {
      "model_module": "@jupyter-widgets/base",
      "model_module_version": "1.1.0",
      "model_name": "LayoutModel",
      "state": {}
     },
     "6608b2db5a8444b58e91ebb9db4b91cc": {
      "model_module": "@jupyter-widgets/controls",
      "model_module_version": "1.4.0",
      "model_name": "LabelModel",
      "state": {
       "layout": "IPY_MODEL_eaf3a0828551416fbda636a45c4ce2a1",
       "style": "IPY_MODEL_bcd235496a9c485fa4266f379b967ea2"
      }
     },
     "68ccddf7258d43e79c16b8716de8c662": {
      "model_module": "@jupyter-widgets/controls",
      "model_module_version": "1.4.0",
      "model_name": "DescriptionStyleModel",
      "state": {
       "description_width": ""
      }
     },
     "691445421f0f4ac68ef48e5d50c47748": {
      "model_module": "@jupyter-widgets/controls",
      "model_module_version": "1.4.0",
      "model_name": "IntSliderModel",
      "state": {
       "description": "in days:",
       "layout": "IPY_MODEL_8a61fb4ada0c4e47b23e07bde0e9fc2d",
       "max": 45,
       "style": "IPY_MODEL_dfe8e433f3eb400f81bcb634c5cd633b"
      }
     },
     "6930448862b640488cef285475f91da6": {
      "model_module": "@jupyter-widgets/controls",
      "model_module_version": "1.4.0",
      "model_name": "RadioButtonsModel",
      "state": {
       "_options_labels": [
        "Nov",
        "Dec",
        "Jan",
        "Feb",
        "Mar",
        "Apr",
        "May",
        "Jun"
       ],
       "description": "Month start:",
       "index": 5,
       "layout": "IPY_MODEL_5d61fbec4f00408a869d9bf2e910af13",
       "style": "IPY_MODEL_7d3ae393e0d8411480514ff636ecc02a"
      }
     },
     "6b3f3cafe5634403a5d9a7c413c067e7": {
      "model_module": "@jupyter-widgets/base",
      "model_module_version": "1.1.0",
      "model_name": "LayoutModel",
      "state": {}
     },
     "70186985c2074380b813d34435f0f0a3": {
      "model_module": "@jupyter-widgets/base",
      "model_module_version": "1.1.0",
      "model_name": "LayoutModel",
      "state": {}
     },
     "72e089bce2eb4b349d346c75c0347eee": {
      "model_module": "@jupyter-widgets/controls",
      "model_module_version": "1.4.0",
      "model_name": "LabelModel",
      "state": {
       "layout": "IPY_MODEL_cb4a5d0983014931a562a7f0b4e67be1",
       "style": "IPY_MODEL_41c862266581484986ddc843d5ae0d92",
       "value": "Length of period:"
      }
     },
     "7450d8ea949245d3b981616adf05f81a": {
      "model_module": "@jupyter-widgets/output",
      "model_module_version": "1.0.0",
      "model_name": "OutputModel",
      "state": {
       "layout": "IPY_MODEL_9bbd69243efb4acabdbfcbb0874feeae",
       "outputs": [
        {
         "name": "stdout",
         "output_type": "stream",
         "text": "Region id : 1227\n"
        },
        {
         "data": {
          "text/html": "<div style=\"width:100%;\"><div style=\"position:relative;width:100%;height:0;padding-bottom:60%;\"><iframe src=\"data:text/html;charset=utf-8;base64,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\" style=\"position:absolute;width:100%;height:100%;left:0;top:0;border:none !important;\" allowfullscreen webkitallowfullscreen mozallowfullscreen></iframe></div></div>",
          "text/plain": "<folium.folium.Map at 0xacfd3c8>"
         },
         "metadata": {},
         "output_type": "display_data"
        }
       ]
      }
     },
     "750e06e588ce4c27914c9a834a92cee6": {
      "model_module": "@jupyter-widgets/controls",
      "model_module_version": "1.4.0",
      "model_name": "LabelModel",
      "state": {
       "layout": "IPY_MODEL_79ae38e6d96946078af10f8e892f1844",
       "style": "IPY_MODEL_76f9d38be30e4597a89f565c249d1b34",
       "value": "date:   2016-05-01 00, SUN"
      }
     },
     "76f9d38be30e4597a89f565c249d1b34": {
      "model_module": "@jupyter-widgets/controls",
      "model_module_version": "1.4.0",
      "model_name": "DescriptionStyleModel",
      "state": {
       "description_width": ""
      }
     },
     "77ddef2fbc734a10b760d40705e10f63": {
      "model_module": "@jupyter-widgets/base",
      "model_module_version": "1.1.0",
      "model_name": "LayoutModel",
      "state": {}
     },
     "7916493a281d4d929a246b6e0c078c1e": {
      "model_module": "@jupyter-widgets/controls",
      "model_module_version": "1.4.0",
      "model_name": "IntSliderModel",
      "state": {
       "description": "in days:",
       "layout": "IPY_MODEL_bb2ef7cacf4f4edfa949be408bb5592e",
       "max": 45,
       "style": "IPY_MODEL_189a225b5a5a46179df36aecb1ada3a8"
      }
     },
     "792a1377386648ac9b2f143378dc0c25": {
      "model_module": "@jupyter-widgets/base",
      "model_module_version": "1.1.0",
      "model_name": "LayoutModel",
      "state": {}
     },
     "79886672f3be4ae2b03b162776d2b4c1": {
      "model_module": "@jupyter-widgets/controls",
      "model_module_version": "1.4.0",
      "model_name": "DescriptionStyleModel",
      "state": {
       "description_width": ""
      }
     },
     "79ae38e6d96946078af10f8e892f1844": {
      "model_module": "@jupyter-widgets/base",
      "model_module_version": "1.1.0",
      "model_name": "LayoutModel",
      "state": {}
     },
     "7d3ae393e0d8411480514ff636ecc02a": {
      "model_module": "@jupyter-widgets/controls",
      "model_module_version": "1.4.0",
      "model_name": "DescriptionStyleModel",
      "state": {
       "description_width": ""
      }
     },
     "7fc14de3b20c499e87407949881faea0": {
      "model_module": "@jupyter-widgets/controls",
      "model_module_version": "1.4.0",
      "model_name": "LabelModel",
      "state": {
       "layout": "IPY_MODEL_5c0ecec72ac0446f91d1f5e8b614a961",
       "style": "IPY_MODEL_585d1622fe09496cad90139e594a827d",
       "value": "date:   2016-04-13 23, WED"
      }
     },
     "7fcf3f2854ba49eaa40536a138855aff": {
      "model_module": "@jupyter-widgets/base",
      "model_module_version": "1.1.0",
      "model_name": "LayoutModel",
      "state": {}
     },
     "85490af65710490d97deb1e428e88301": {
      "model_module": "@jupyter-widgets/base",
      "model_module_version": "1.1.0",
      "model_name": "LayoutModel",
      "state": {}
     },
     "8625740e16214adea2f15117686d3dc1": {
      "model_module": "@jupyter-widgets/controls",
      "model_module_version": "1.4.0",
      "model_name": "DescriptionStyleModel",
      "state": {
       "description_width": ""
      }
     },
     "87a7c13c2ab64d68a1ed9845e35d62c3": {
      "model_module": "@jupyter-widgets/controls",
      "model_module_version": "1.4.0",
      "model_name": "DescriptionStyleModel",
      "state": {
       "description_width": ""
      }
     },
     "888a88f4a042430aa7d4239e36b037d6": {
      "model_module": "@jupyter-widgets/controls",
      "model_module_version": "1.4.0",
      "model_name": "SliderStyleModel",
      "state": {
       "description_width": ""
      }
     },
     "8a61fb4ada0c4e47b23e07bde0e9fc2d": {
      "model_module": "@jupyter-widgets/base",
      "model_module_version": "1.1.0",
      "model_name": "LayoutModel",
      "state": {}
     },
     "8a6a992b364a489083403420803d3706": {
      "model_module": "@jupyter-widgets/controls",
      "model_module_version": "1.4.0",
      "model_name": "IntSliderModel",
      "state": {
       "description": "in hours:",
       "layout": "IPY_MODEL_4b4d35c660744818bb9e0284a2b97eb8",
       "max": 23,
       "style": "IPY_MODEL_c0478d20362e4112a0f41d780d8221e4",
       "value": 23
      }
     },
     "8ae5b0ea2b0143b38c255069cac95028": {
      "model_module": "@jupyter-widgets/base",
      "model_module_version": "1.1.0",
      "model_name": "LayoutModel",
      "state": {}
     },
     "8e7284a1d9af4ee9ac3821dfd2c2c2b0": {
      "model_module": "@jupyter-widgets/controls",
      "model_module_version": "1.4.0",
      "model_name": "HBoxModel",
      "state": {
       "children": [
        "IPY_MODEL_9ba3cc7c1f4b444c9bf31627ab8c798c",
        "IPY_MODEL_211f1b95e67c48e094a8a684ff87c2bf",
        "IPY_MODEL_c037f18a386346fabd4882462040b1ab"
       ],
       "layout": "IPY_MODEL_560c19761063460e81e8a5dcfbae267b"
      }
     },
     "9074870977884cd6904681d85eeef7bc": {
      "model_module": "@jupyter-widgets/controls",
      "model_module_version": "1.4.0",
      "model_name": "IntSliderModel",
      "state": {
       "description": "in hours:",
       "layout": "IPY_MODEL_ea0376e3250245bc877eccfcc03caf42",
       "max": 23,
       "style": "IPY_MODEL_31d3b8f201a34a9c8db3451bc6da9ebe",
       "value": 23
      }
     },
     "91be2073749f4ebf9f6635a6d70f1821": {
      "model_module": "@jupyter-widgets/output",
      "model_module_version": "1.0.0",
      "model_name": "OutputModel",
      "state": {
       "layout": "IPY_MODEL_10d591fd41c74f1bacb2aa550108084d",
       "outputs": [
        {
         "name": "stdout",
         "output_type": "stream",
         "text": "2016-04-10 00:00:00\n"
        },
        {
         "data": {
          "image/png": "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\n",
          "text/plain": "<Figure size 1296x360 with 1 Axes>"
         },
         "metadata": {
          "needs_background": "light"
         },
         "output_type": "display_data"
        }
       ]
      }
     },
     "93feb46899bf4cd799210d8059f22f35": {
      "model_module": "@jupyter-widgets/controls",
      "model_module_version": "1.4.0",
      "model_name": "DescriptionStyleModel",
      "state": {
       "description_width": ""
      }
     },
     "970d7c37e76649f6a022f65c5aff2feb": {
      "model_module": "@jupyter-widgets/controls",
      "model_module_version": "1.4.0",
      "model_name": "IntSliderModel",
      "state": {
       "description": "Day start:",
       "layout": "IPY_MODEL_27cba18990164bfdadc16240c28b3b9e",
       "max": 29,
       "min": 1,
       "style": "IPY_MODEL_aaa71bb1b467423fa54a21c412508b45",
       "value": 1
      }
     },
     "9767b7144d9042d197ca24b3b570f425": {
      "model_module": "@jupyter-widgets/base",
      "model_module_version": "1.1.0",
      "model_name": "LayoutModel",
      "state": {}
     },
     "999f25f6b75445c08ba58a271952e225": {
      "model_module": "@jupyter-widgets/base",
      "model_module_version": "1.1.0",
      "model_name": "LayoutModel",
      "state": {}
     },
     "9a1f938a1a824f0d8cb0848d313da084": {
      "model_module": "@jupyter-widgets/controls",
      "model_module_version": "1.4.0",
      "model_name": "DescriptionStyleModel",
      "state": {
       "description_width": ""
      }
     },
     "9ba3cc7c1f4b444c9bf31627ab8c798c": {
      "model_module": "@jupyter-widgets/controls",
      "model_module_version": "1.4.0",
      "model_name": "RadioButtonsModel",
      "state": {
       "_options_labels": [
        "Nov",
        "Dec",
        "Jan",
        "Feb",
        "Mar",
        "Apr",
        "May",
        "Jun"
       ],
       "description": "Month start:",
       "index": 3,
       "layout": "IPY_MODEL_569ce273027e45b8b77d81461746d348",
       "style": "IPY_MODEL_8625740e16214adea2f15117686d3dc1"
      }
     },
     "9bbd69243efb4acabdbfcbb0874feeae": {
      "model_module": "@jupyter-widgets/base",
      "model_module_version": "1.1.0",
      "model_name": "LayoutModel",
      "state": {}
     },
     "9c6c65862dd940009ad7f1758dc38673": {
      "model_module": "@jupyter-widgets/controls",
      "model_module_version": "1.4.0",
      "model_name": "IntSliderModel",
      "state": {
       "description": "Day start:",
       "layout": "IPY_MODEL_3636afebfca04431b52f9c8f0bf4f837",
       "max": 30,
       "min": 1,
       "style": "IPY_MODEL_edb2351a1cc842358fcbb9589857c908",
       "value": 10
      }
     },
     "a35f77b86f76460ea9d6029d62ee643c": {
      "model_module": "@jupyter-widgets/controls",
      "model_module_version": "1.4.0",
      "model_name": "RadioButtonsModel",
      "state": {
       "_options_labels": [
        "May",
        "Jun"
       ],
       "description": "Month start:",
       "index": 0,
       "layout": "IPY_MODEL_c07442d92f6c4791877815b8b0d602c3",
       "style": "IPY_MODEL_93feb46899bf4cd799210d8059f22f35"
      }
     },
     "a4aa677bb5b34bf88d59daeced38da9c": {
      "model_module": "@jupyter-widgets/base",
      "model_module_version": "1.1.0",
      "model_name": "LayoutModel",
      "state": {}
     },
     "a55e9af8e0ce4d8ca7a1eb7612e5a72a": {
      "model_module": "@jupyter-widgets/base",
      "model_module_version": "1.1.0",
      "model_name": "LayoutModel",
      "state": {}
     },
     "a57ab301028e4124b0a92c941c3cca57": {
      "model_module": "@jupyter-widgets/base",
      "model_module_version": "1.1.0",
      "model_name": "LayoutModel",
      "state": {}
     },
     "a5c58ca17e034c11b1dd1e000dc4899b": {
      "model_module": "@jupyter-widgets/base",
      "model_module_version": "1.1.0",
      "model_name": "LayoutModel",
      "state": {}
     },
     "a629836854bb407fac53215b443d9563": {
      "model_module": "@jupyter-widgets/controls",
      "model_module_version": "1.4.0",
      "model_name": "SliderStyleModel",
      "state": {
       "description_width": ""
      }
     },
     "a6d867257fed46cfa2a96acb992fcf94": {
      "model_module": "@jupyter-widgets/controls",
      "model_module_version": "1.4.0",
      "model_name": "VBoxModel",
      "state": {
       "children": [
        "IPY_MODEL_c2bc05843978474691f14c4dab24e7b5",
        "IPY_MODEL_e079227acca34e93ab03022fb2f77ce2",
        "IPY_MODEL_750e06e588ce4c27914c9a834a92cee6"
       ],
       "layout": "IPY_MODEL_7fcf3f2854ba49eaa40536a138855aff"
      }
     },
     "a733ecba462e4587825e05b2178e94f0": {
      "model_module": "@jupyter-widgets/base",
      "model_module_version": "1.1.0",
      "model_name": "LayoutModel",
      "state": {}
     },
     "a9db18a7002445fbbb49b14413f401cf": {
      "model_module": "@jupyter-widgets/controls",
      "model_module_version": "1.4.0",
      "model_name": "RadioButtonsModel",
      "state": {
       "_options_labels": [
        "Nov",
        "Dec",
        "Jan",
        "Feb",
        "Mar",
        "Apr",
        "May",
        "Jun"
       ],
       "description": "Month start:",
       "index": 3,
       "layout": "IPY_MODEL_e54f48df95ca44acb6d2c05096e3799f",
       "style": "IPY_MODEL_9a1f938a1a824f0d8cb0848d313da084"
      }
     },
     "aa44a086e2ca41e59c9e118da574d97a": {
      "model_module": "@jupyter-widgets/base",
      "model_module_version": "1.1.0",
      "model_name": "LayoutModel",
      "state": {}
     },
     "aaa71bb1b467423fa54a21c412508b45": {
      "model_module": "@jupyter-widgets/controls",
      "model_module_version": "1.4.0",
      "model_name": "SliderStyleModel",
      "state": {
       "description_width": ""
      }
     },
     "ad1bf11c28834a8aa2fc33ebe0de05ba": {
      "model_module": "@jupyter-widgets/base",
      "model_module_version": "1.1.0",
      "model_name": "LayoutModel",
      "state": {}
     },
     "ae1beb18634147ce839c41f62e70d809": {
      "model_module": "@jupyter-widgets/controls",
      "model_module_version": "1.4.0",
      "model_name": "LabelModel",
      "state": {
       "layout": "IPY_MODEL_52d95e391caa41be9f903b74ee853abe",
       "style": "IPY_MODEL_54d4f33ec67047ac831289ae97c42162",
       "value": "Length of period:"
      }
     },
     "aee8165afa204b05bece6c231cfbcc8d": {
      "model_module": "@jupyter-widgets/base",
      "model_module_version": "1.1.0",
      "model_name": "LayoutModel",
      "state": {}
     },
     "afb87ed57faa4c0e9dad1f2b99747126": {
      "model_module": "@jupyter-widgets/base",
      "model_module_version": "1.1.0",
      "model_name": "LayoutModel",
      "state": {}
     },
     "b18aba17118e4fc394debf307f917d9e": {
      "model_module": "@jupyter-widgets/controls",
      "model_module_version": "1.4.0",
      "model_name": "IntSliderModel",
      "state": {
       "description": "hour start",
       "layout": "IPY_MODEL_fdb9d32d4341444d8fd952e17ab62d04",
       "max": 23,
       "style": "IPY_MODEL_888a88f4a042430aa7d4239e36b037d6"
      }
     },
     "b26a8468ced34e72973bd446130aa3bc": {
      "model_module": "@jupyter-widgets/controls",
      "model_module_version": "1.4.0",
      "model_name": "HBoxModel",
      "state": {
       "children": [
        "IPY_MODEL_c988e569d79d404aa206ac692239c462",
        "IPY_MODEL_c303b14e9a0f47b09208bf1364e2e2c5"
       ],
       "layout": "IPY_MODEL_65ff35fedad44aabbf4343443dff8c63"
      }
     },
     "b70c6fa6f86b4c64ac5f8b40bbd09771": {
      "model_module": "@jupyter-widgets/controls",
      "model_module_version": "1.4.0",
      "model_name": "IntSliderModel",
      "state": {
       "description": "Day start:",
       "layout": "IPY_MODEL_aa44a086e2ca41e59c9e118da574d97a",
       "max": 29,
       "min": 1,
       "style": "IPY_MODEL_13193612fc2c42708b1311b417685acd",
       "value": 1
      }
     },
     "b83a9e84ede34b3398b2f39e2aba9e21": {
      "model_module": "@jupyter-widgets/controls",
      "model_module_version": "1.4.0",
      "model_name": "VBoxModel",
      "state": {
       "children": [
        "IPY_MODEL_8e7284a1d9af4ee9ac3821dfd2c2c2b0",
        "IPY_MODEL_d243e4ba6870489bba05d17aaaab6693"
       ],
       "layout": "IPY_MODEL_aee8165afa204b05bece6c231cfbcc8d"
      }
     },
     "b848dea260574fe1a1a6aa4e3d8af5f1": {
      "model_module": "@jupyter-widgets/controls",
      "model_module_version": "1.4.0",
      "model_name": "VBoxModel",
      "state": {
       "children": [
        "IPY_MODEL_970d7c37e76649f6a022f65c5aff2feb",
        "IPY_MODEL_b93e96c6559f4d4b875121f37b90fef9",
        "IPY_MODEL_faeda08122f446a1942a832d0102c4ec"
       ],
       "layout": "IPY_MODEL_9767b7144d9042d197ca24b3b570f425"
      }
     },
     "b922cd0a51f4429b99b5e42c59f88320": {
      "model_module": "@jupyter-widgets/base",
      "model_module_version": "1.1.0",
      "model_name": "LayoutModel",
      "state": {}
     },
     "b93e96c6559f4d4b875121f37b90fef9": {
      "model_module": "@jupyter-widgets/controls",
      "model_module_version": "1.4.0",
      "model_name": "IntSliderModel",
      "state": {
       "description": "hour start",
       "layout": "IPY_MODEL_cf6ca775c4af4731b65c3809682537b5",
       "max": 23,
       "style": "IPY_MODEL_3a38543fb6944a1cb3c373a996ad6ed2"
      }
     },
     "b9ea32c9f9d242f1a49966225ec21e9b": {
      "model_module": "@jupyter-widgets/controls",
      "model_module_version": "1.4.0",
      "model_name": "SliderStyleModel",
      "state": {
       "description_width": ""
      }
     },
     "ba02cc04ed1143d3ac723d7abf102869": {
      "model_module": "@jupyter-widgets/base",
      "model_module_version": "1.1.0",
      "model_name": "LayoutModel",
      "state": {}
     },
     "bb2ef7cacf4f4edfa949be408bb5592e": {
      "model_module": "@jupyter-widgets/base",
      "model_module_version": "1.1.0",
      "model_name": "LayoutModel",
      "state": {}
     },
     "bcd235496a9c485fa4266f379b967ea2": {
      "model_module": "@jupyter-widgets/controls",
      "model_module_version": "1.4.0",
      "model_name": "DescriptionStyleModel",
      "state": {
       "description_width": ""
      }
     },
     "bd0a63a8b18146928cf23922dd60ad48": {
      "model_module": "@jupyter-widgets/base",
      "model_module_version": "1.1.0",
      "model_name": "LayoutModel",
      "state": {}
     },
     "bde79f7cd7694aff85b68d2aeece70d5": {
      "model_module": "@jupyter-widgets/controls",
      "model_module_version": "1.4.0",
      "model_name": "DescriptionStyleModel",
      "state": {
       "description_width": ""
      }
     },
     "bea512b37c184c71bb8b184757158900": {
      "model_module": "@jupyter-widgets/controls",
      "model_module_version": "1.4.0",
      "model_name": "DescriptionStyleModel",
      "state": {
       "description_width": ""
      }
     },
     "bf700f9922034fac9a5d3f6df7158eae": {
      "model_module": "@jupyter-widgets/controls",
      "model_module_version": "1.4.0",
      "model_name": "VBoxModel",
      "state": {
       "children": [
        "IPY_MODEL_370341aaee2549bc93a23002c3a3bfda",
        "IPY_MODEL_b26a8468ced34e72973bd446130aa3bc"
       ],
       "layout": "IPY_MODEL_4a7f8a37fd3a4bfabb8e46d7f4c67f61"
      }
     },
     "c037f18a386346fabd4882462040b1ab": {
      "model_module": "@jupyter-widgets/controls",
      "model_module_version": "1.4.0",
      "model_name": "RadioButtonsModel",
      "state": {
       "_options_labels": [
        "step=1",
        "step=2",
        "step=3",
        "step=4",
        "step=5",
        "step=6"
       ],
       "description": "Prediction step:",
       "index": 2,
       "layout": "IPY_MODEL_6b3f3cafe5634403a5d9a7c413c067e7",
       "style": "IPY_MODEL_d17678cd26374bd9a962368fcba8c9d8"
      }
     },
     "c0478d20362e4112a0f41d780d8221e4": {
      "model_module": "@jupyter-widgets/controls",
      "model_module_version": "1.4.0",
      "model_name": "SliderStyleModel",
      "state": {
       "description_width": ""
      }
     },
     "c07442d92f6c4791877815b8b0d602c3": {
      "model_module": "@jupyter-widgets/base",
      "model_module_version": "1.1.0",
      "model_name": "LayoutModel",
      "state": {}
     },
     "c0ee6920ac634a1ab195d35b5d1ac3a1": {
      "model_module": "@jupyter-widgets/controls",
      "model_module_version": "1.4.0",
      "model_name": "VBoxModel",
      "state": {
       "children": [
        "IPY_MODEL_9c6c65862dd940009ad7f1758dc38673",
        "IPY_MODEL_f063597467164e24a76b9c3d66c43fc2",
        "IPY_MODEL_3e656aed17964eb1b0ce56dda1d377b0"
       ],
       "layout": "IPY_MODEL_150e780ca094458fba24f23e8c82e6eb"
      }
     },
     "c2bc05843978474691f14c4dab24e7b5": {
      "model_module": "@jupyter-widgets/controls",
      "model_module_version": "1.4.0",
      "model_name": "IntSliderModel",
      "state": {
       "description": "Day start:",
       "layout": "IPY_MODEL_b922cd0a51f4429b99b5e42c59f88320",
       "max": 31,
       "min": 1,
       "style": "IPY_MODEL_17f1f4da5ac444ebbb67c392d1f5cfd9",
       "value": 1
      }
     },
     "c303b14e9a0f47b09208bf1364e2e2c5": {
      "model_module": "@jupyter-widgets/controls",
      "model_module_version": "1.4.0",
      "model_name": "LabelModel",
      "state": {
       "layout": "IPY_MODEL_4a154026693a4efb9a50b2472154aca4",
       "style": "IPY_MODEL_da5bfe6fbaed450eaaab691e5499bef8",
       "value": "date:   2016-02-01 23, MON"
      }
     },
     "c68381d40e9b43d6961cf91ffac3bb4c": {
      "model_module": "@jupyter-widgets/controls",
      "model_module_version": "1.4.0",
      "model_name": "LabelModel",
      "state": {
       "layout": "IPY_MODEL_77ddef2fbc734a10b760d40705e10f63",
       "style": "IPY_MODEL_ca52c6ed09894774883184da0dd5f348",
       "value": "date:   2016-05-01 23, SUN"
      }
     },
     "c6983b7f36e74648931a862aa160af22": {
      "model_module": "@jupyter-widgets/controls",
      "model_module_version": "1.4.0",
      "model_name": "SliderStyleModel",
      "state": {
       "description_width": ""
      }
     },
     "c712be646120409f9026b57246ef5cf4": {
      "model_module": "@jupyter-widgets/controls",
      "model_module_version": "1.4.0",
      "model_name": "DescriptionStyleModel",
      "state": {
       "description_width": ""
      }
     },
     "c8a60340d8ca449c9078d28abbb8464d": {
      "model_module": "@jupyter-widgets/base",
      "model_module_version": "1.1.0",
      "model_name": "LayoutModel",
      "state": {}
     },
     "c8eba279cd6d4d5daa334153013b60e8": {
      "model_module": "@jupyter-widgets/base",
      "model_module_version": "1.1.0",
      "model_name": "LayoutModel",
      "state": {}
     },
     "c988e569d79d404aa206ac692239c462": {
      "model_module": "@jupyter-widgets/controls",
      "model_module_version": "1.4.0",
      "model_name": "VBoxModel",
      "state": {
       "children": [
        "IPY_MODEL_d47f62bd10dc467ca8fe698acf18a21c",
        "IPY_MODEL_419588876e5d4bdab779303e051ebf72",
        "IPY_MODEL_9074870977884cd6904681d85eeef7bc"
       ],
       "layout": "IPY_MODEL_a5c58ca17e034c11b1dd1e000dc4899b"
      }
     },
     "c9fbbba8aa3d4fc7aa036b43031ed648": {
      "model_module": "@jupyter-widgets/base",
      "model_module_version": "1.1.0",
      "model_name": "LayoutModel",
      "state": {}
     },
     "ca52c6ed09894774883184da0dd5f348": {
      "model_module": "@jupyter-widgets/controls",
      "model_module_version": "1.4.0",
      "model_name": "DescriptionStyleModel",
      "state": {
       "description_width": ""
      }
     },
     "ca549cb2bcde4f22949f929d6c244499": {
      "model_module": "@jupyter-widgets/base",
      "model_module_version": "1.1.0",
      "model_name": "LayoutModel",
      "state": {}
     },
     "cb4a5d0983014931a562a7f0b4e67be1": {
      "model_module": "@jupyter-widgets/base",
      "model_module_version": "1.1.0",
      "model_name": "LayoutModel",
      "state": {}
     },
     "cc6f7d780c44486ea055651ec6816ba0": {
      "model_module": "@jupyter-widgets/controls",
      "model_module_version": "1.4.0",
      "model_name": "SliderStyleModel",
      "state": {
       "description_width": ""
      }
     },
     "ce7048e6d050422aa90addee4cc96746": {
      "model_module": "@jupyter-widgets/controls",
      "model_module_version": "1.4.0",
      "model_name": "IntSliderModel",
      "state": {
       "description": "chose reg:",
       "layout": "IPY_MODEL_edd9138dff7c4046aed1cd6be940181a",
       "max": 102,
       "min": 1,
       "style": "IPY_MODEL_4fb704400d3a4162acd3c66f2e824e2f",
       "value": 30
      }
     },
     "cf05c1f55fa2469baf951c84ea9f023d": {
      "model_module": "@jupyter-widgets/controls",
      "model_module_version": "1.4.0",
      "model_name": "SliderStyleModel",
      "state": {
       "description_width": ""
      }
     },
     "cf6ca775c4af4731b65c3809682537b5": {
      "model_module": "@jupyter-widgets/base",
      "model_module_version": "1.1.0",
      "model_name": "LayoutModel",
      "state": {}
     },
     "d17678cd26374bd9a962368fcba8c9d8": {
      "model_module": "@jupyter-widgets/controls",
      "model_module_version": "1.4.0",
      "model_name": "DescriptionStyleModel",
      "state": {
       "description_width": ""
      }
     },
     "d243e4ba6870489bba05d17aaaab6693": {
      "model_module": "@jupyter-widgets/controls",
      "model_module_version": "1.4.0",
      "model_name": "HBoxModel",
      "state": {
       "children": [
        "IPY_MODEL_574acf9c625744df95dc3d6ccbcedc66",
        "IPY_MODEL_6608b2db5a8444b58e91ebb9db4b91cc"
       ],
       "layout": "IPY_MODEL_3e3e78e4a9924c8db1b833d77787e6ec"
      }
     },
     "d2c5a94373e045098735c27c1fdfcbac": {
      "model_module": "@jupyter-widgets/controls",
      "model_module_version": "1.4.0",
      "model_name": "SliderStyleModel",
      "state": {
       "description_width": ""
      }
     },
     "d47f62bd10dc467ca8fe698acf18a21c": {
      "model_module": "@jupyter-widgets/controls",
      "model_module_version": "1.4.0",
      "model_name": "LabelModel",
      "state": {
       "layout": "IPY_MODEL_5fbcc7e8a076442cb34fc0586a45eebf",
       "style": "IPY_MODEL_87a7c13c2ab64d68a1ed9845e35d62c3",
       "value": "Length of period:"
      }
     },
     "d5683a12339640fcb572d2f2f3c8ad71": {
      "model_module": "@jupyter-widgets/controls",
      "model_module_version": "1.4.0",
      "model_name": "DescriptionStyleModel",
      "state": {
       "description_width": ""
      }
     },
     "d7bdc437ce934c848f43fa029f63b799": {
      "model_module": "@jupyter-widgets/controls",
      "model_module_version": "1.4.0",
      "model_name": "HBoxModel",
      "state": {
       "children": [
        "IPY_MODEL_a35f77b86f76460ea9d6029d62ee643c",
        "IPY_MODEL_c2bc05843978474691f14c4dab24e7b5",
        "IPY_MODEL_2447bdddeaf348e1a47c4c9630accea1"
       ],
       "layout": "IPY_MODEL_2326540a9a134e07ae16835e7a0a3575"
      }
     },
     "d8d12985a64e464aa4e0d4c894a0c30e": {
      "model_module": "@jupyter-widgets/controls",
      "model_module_version": "1.4.0",
      "model_name": "RadioButtonsModel",
      "state": {
       "_options_labels": [
        "step=1",
        "step=2",
        "step=3",
        "step=4",
        "step=5",
        "step=6"
       ],
       "description": "Prediction step:",
       "index": 2,
       "layout": "IPY_MODEL_6411bd624fb242f79cc7134f5d35fedf",
       "style": "IPY_MODEL_035b8247b2a64d329f87e1c8e4fe8d41"
      }
     },
     "da5bfe6fbaed450eaaab691e5499bef8": {
      "model_module": "@jupyter-widgets/controls",
      "model_module_version": "1.4.0",
      "model_name": "DescriptionStyleModel",
      "state": {
       "description_width": ""
      }
     },
     "dd103d7a48854832975871b4cdb708c3": {
      "model_module": "@jupyter-widgets/base",
      "model_module_version": "1.1.0",
      "model_name": "LayoutModel",
      "state": {}
     },
     "dfe8e433f3eb400f81bcb634c5cd633b": {
      "model_module": "@jupyter-widgets/controls",
      "model_module_version": "1.4.0",
      "model_name": "SliderStyleModel",
      "state": {
       "description_width": ""
      }
     },
     "e079227acca34e93ab03022fb2f77ce2": {
      "model_module": "@jupyter-widgets/controls",
      "model_module_version": "1.4.0",
      "model_name": "IntSliderModel",
      "state": {
       "description": "hour start",
       "layout": "IPY_MODEL_5cff4dd4fa594dbeabdb073a1d8aff97",
       "max": 23,
       "style": "IPY_MODEL_b9ea32c9f9d242f1a49966225ec21e9b"
      }
     },
     "e07b2adc22b34ff784923a3de219d6b2": {
      "model_module": "@jupyter-widgets/controls",
      "model_module_version": "1.4.0",
      "model_name": "SliderStyleModel",
      "state": {
       "description_width": ""
      }
     },
     "e0f2aacb01a54064961a3fe4bacc936e": {
      "model_module": "@jupyter-widgets/controls",
      "model_module_version": "1.4.0",
      "model_name": "IntSliderModel",
      "state": {
       "description": "in hours:",
       "layout": "IPY_MODEL_a4aa677bb5b34bf88d59daeced38da9c",
       "max": 23,
       "style": "IPY_MODEL_c6983b7f36e74648931a862aa160af22",
       "value": 23
      }
     },
     "e1e258482ee04aca941bfbd7c84c3030": {
      "model_module": "@jupyter-widgets/base",
      "model_module_version": "1.1.0",
      "model_name": "LayoutModel",
      "state": {}
     },
     "e2fbd54917b64ce3a9ffa8cfff892962": {
      "model_module": "@jupyter-widgets/base",
      "model_module_version": "1.1.0",
      "model_name": "LayoutModel",
      "state": {}
     },
     "e4c7802511644374992d149f7a16eb7e": {
      "model_module": "@jupyter-widgets/controls",
      "model_module_version": "1.4.0",
      "model_name": "LabelModel",
      "state": {
       "layout": "IPY_MODEL_571cd28e2fa4427d88d474f063eb476f",
       "style": "IPY_MODEL_5f47f3f2005b419dafcee59d947f2fe0"
      }
     },
     "e4f71e38941945f9bd3ae8cb50567f3f": {
      "model_module": "@jupyter-widgets/base",
      "model_module_version": "1.1.0",
      "model_name": "LayoutModel",
      "state": {}
     },
     "e54f48df95ca44acb6d2c05096e3799f": {
      "model_module": "@jupyter-widgets/base",
      "model_module_version": "1.1.0",
      "model_name": "LayoutModel",
      "state": {}
     },
     "e5c72273e4e24c3b9f502551baf8bd29": {
      "model_module": "@jupyter-widgets/controls",
      "model_module_version": "1.4.0",
      "model_name": "LabelModel",
      "state": {
       "layout": "IPY_MODEL_bd0a63a8b18146928cf23922dd60ad48",
       "style": "IPY_MODEL_09320a23ffc7499283871e14d76bc381",
       "value": "Length of period:"
      }
     },
     "ea0376e3250245bc877eccfcc03caf42": {
      "model_module": "@jupyter-widgets/base",
      "model_module_version": "1.1.0",
      "model_name": "LayoutModel",
      "state": {}
     },
     "eaf3a0828551416fbda636a45c4ce2a1": {
      "model_module": "@jupyter-widgets/base",
      "model_module_version": "1.1.0",
      "model_name": "LayoutModel",
      "state": {}
     },
     "edb2351a1cc842358fcbb9589857c908": {
      "model_module": "@jupyter-widgets/controls",
      "model_module_version": "1.4.0",
      "model_name": "SliderStyleModel",
      "state": {
       "description_width": ""
      }
     },
     "edc9ae12be28419d872e755ccf1feb5e": {
      "model_module": "@jupyter-widgets/controls",
      "model_module_version": "1.4.0",
      "model_name": "VBoxModel",
      "state": {
       "children": [
        "IPY_MODEL_ae1beb18634147ce839c41f62e70d809",
        "IPY_MODEL_7916493a281d4d929a246b6e0c078c1e",
        "IPY_MODEL_31210d989b5b4c5fbf114934293eadd6"
       ],
       "layout": "IPY_MODEL_ba02cc04ed1143d3ac723d7abf102869"
      }
     },
     "edd9138dff7c4046aed1cd6be940181a": {
      "model_module": "@jupyter-widgets/base",
      "model_module_version": "1.1.0",
      "model_name": "LayoutModel",
      "state": {}
     },
     "ef4a795da54c4c7f8842c66542ca03ec": {
      "model_module": "@jupyter-widgets/controls",
      "model_module_version": "1.4.0",
      "model_name": "VBoxModel",
      "state": {
       "children": [
        "IPY_MODEL_30d7e9d5649949ae8c97b907c095557a",
        "IPY_MODEL_35c8caa0ec5c4654bd2dd15c7a66266b"
       ],
       "layout": "IPY_MODEL_25b3b35d62ba4bde8fc78922a52278df"
      }
     },
     "ef6aea96c41f427ab39d23382c9fc4c8": {
      "model_module": "@jupyter-widgets/controls",
      "model_module_version": "1.4.0",
      "model_name": "HBoxModel",
      "state": {
       "children": [
        "IPY_MODEL_e079227acca34e93ab03022fb2f77ce2",
        "IPY_MODEL_750e06e588ce4c27914c9a834a92cee6"
       ],
       "layout": "IPY_MODEL_c9fbbba8aa3d4fc7aa036b43031ed648"
      }
     },
     "f063597467164e24a76b9c3d66c43fc2": {
      "model_module": "@jupyter-widgets/controls",
      "model_module_version": "1.4.0",
      "model_name": "IntSliderModel",
      "state": {
       "description": "hour start",
       "layout": "IPY_MODEL_646622ae14e84ab0a45260f7c24fbf88",
       "max": 23,
       "style": "IPY_MODEL_47a0d17de77a40d6a2eaddbad9ec8c98"
      }
     },
     "f1db6041b49048c8ad9b81a976407529": {
      "model_module": "@jupyter-widgets/controls",
      "model_module_version": "1.4.0",
      "model_name": "SliderStyleModel",
      "state": {
       "description_width": ""
      }
     },
     "f38992498f4849699c7bcd3c150d9708": {
      "model_module": "@jupyter-widgets/base",
      "model_module_version": "1.1.0",
      "model_name": "LayoutModel",
      "state": {}
     },
     "f68bffaaf6764237a92f17fe78d60db4": {
      "model_module": "@jupyter-widgets/controls",
      "model_module_version": "1.4.0",
      "model_name": "HBoxModel",
      "state": {
       "children": [
        "IPY_MODEL_a35f77b86f76460ea9d6029d62ee643c",
        "IPY_MODEL_a6d867257fed46cfa2a96acb992fcf94",
        "IPY_MODEL_2447bdddeaf348e1a47c4c9630accea1"
       ],
       "layout": "IPY_MODEL_a733ecba462e4587825e05b2178e94f0"
      }
     },
     "f8e12fec346b491e8f469bc0f0a5b1b3": {
      "model_module": "@jupyter-widgets/base",
      "model_module_version": "1.1.0",
      "model_name": "LayoutModel",
      "state": {}
     },
     "f9a1fbe7bfd34d8293f7394e4e9a2a63": {
      "model_module": "@jupyter-widgets/base",
      "model_module_version": "1.1.0",
      "model_name": "LayoutModel",
      "state": {}
     },
     "faeda08122f446a1942a832d0102c4ec": {
      "model_module": "@jupyter-widgets/controls",
      "model_module_version": "1.4.0",
      "model_name": "LabelModel",
      "state": {
       "layout": "IPY_MODEL_1123ac9d8a1b44878e6fb618b499fa17",
       "style": "IPY_MODEL_bea512b37c184c71bb8b184757158900"
      }
     },
     "fd49e27815b440808091449a3fa8c951": {
      "model_module": "@jupyter-widgets/base",
      "model_module_version": "1.1.0",
      "model_name": "LayoutModel",
      "state": {}
     },
     "fdb9d32d4341444d8fd952e17ab62d04": {
      "model_module": "@jupyter-widgets/base",
      "model_module_version": "1.1.0",
      "model_name": "LayoutModel",
      "state": {}
     }
    },
    "version_major": 2,
    "version_minor": 0
   }
  }
 },
 "nbformat": 4,
 "nbformat_minor": 2
}
