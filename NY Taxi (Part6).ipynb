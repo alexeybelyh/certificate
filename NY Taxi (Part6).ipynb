{
 "cells": [
  {
   "cell_type": "code",
   "execution_count": 1,
   "metadata": {},
   "outputs": [],
   "source": [
    "%matplotlib inline\n",
    "\n",
    "import pandas as pd\n",
    "import numpy as np\n",
    "\n",
    "from sklearn.linear_model import  LinearRegression\n",
    "from sklearn.linear_model import Lasso\n",
    "from sklearn.ensemble import RandomForestRegressor\n",
    "\n",
    "\n",
    "from statsmodels.tsa.statespace.sarimax import SARIMAXResults\n",
    "from numpy.linalg.linalg import LinAlgError\n",
    "\n",
    "from scipy import stats\n",
    "\n",
    "from matplotlib import pyplot as plt\n",
    "from statsmodels import api as sm\n",
    "from tqdm import tqdm \n",
    "import warnings\n",
    "from itertools import product"
   ]
  },
  {
   "cell_type": "markdown",
   "metadata": {},
   "source": [
    "#### 1.Загрузите обучающие выборки прошлой недели, перечислите используемые в моделях признаки и посчитайте Qmay — качество прогнозов моделей, настроенных на данных до апреля 2016, в мае 2016."
   ]
  },
  {
   "cell_type": "code",
   "execution_count": 2,
   "metadata": {},
   "outputs": [],
   "source": [
    "df0=pd.read_csv('0.n_reg_2015-09_2016-06.csv',sep=',',parse_dates=['t'],index_col=['t'])\n",
    "cols=df0.columns"
   ]
  },
  {
   "cell_type": "code",
   "execution_count": 3,
   "metadata": {},
   "outputs": [],
   "source": [
    "time_start, time_end= '2015-11-01 00:00:00', '2016-06-30 23:00:00',\n",
    "df_all=df0[time_start:time_end]"
   ]
  },
  {
   "cell_type": "code",
   "execution_count": 4,
   "metadata": {},
   "outputs": [
    {
     "data": {
      "text/plain": [
       "(5832, 102)"
      ]
     },
     "execution_count": 4,
     "metadata": {},
     "output_type": "execute_result"
    }
   ],
   "source": [
    "df_all.shape"
   ]
  },
  {
   "cell_type": "markdown",
   "metadata": {},
   "source": [
    "Признаки, используемые на прошлой неделе:\n",
    "1. Временные -- зависят от времени (синусы и косинусы)\n",
    "2. Кумулятивные -- сумма поездок за период (4,8,12,24,24*7,24*30 часов)\n",
    "3. Зональные временные - количество поездок из рассматриваемого района в предыдущие часы (смещение от 1-10)\n",
    "4. Данные из ARIMA"
   ]
  },
  {
   "cell_type": "code",
   "execution_count": 5,
   "metadata": {},
   "outputs": [],
   "source": [
    "#Функция формирует временные признаки (не зависящие от географической зоны)\n",
    "def get_time_features(df, K):\n",
    "    length = df.shape[0] + 1\n",
    "    features = pd.DataFrame()\n",
    "    for i in range(1,K+1):\n",
    "        features['sinw_w%d' % i] = [ np.sin(t * i * 2.*np.pi / 168.) for t in np.arange(1, length)]\n",
    "        features['cosw_w%d' % i] = [ np.cos(t * i * 2.*np.pi / 168.) for t in np.arange(1, length)]\n",
    "        features['sind_%d' % i] = [ np.sin(t * i * 2.*np.pi / 24.) for t in np.arange(1, length)]\n",
    "        features['cosd_%d' % i] = [ np.cos(t * i * 2.*np.pi / 24.) for t in np.arange(1, length)]\n",
    "\n",
    "    features[['h%d' % i for i in range(0, 24)]] = pd.get_dummies(df.index.hour)\n",
    "    features[['dw%d' % i for i in range(0, 7)]] = pd.get_dummies(df.index.weekday)\n",
    "    features[['dm%d' % i for i in range(0, 31)]] = pd.get_dummies(df.index.day)\n",
    "    features['is_weekend'] = (df.index.weekday > 4).astype(float)\n",
    "      \n",
    "    return features"
   ]
  },
  {
   "cell_type": "code",
   "execution_count": 6,
   "metadata": {},
   "outputs": [],
   "source": [
    "#Кумулятивное скользящее\n",
    "def mov_cum (z,N=3):\n",
    "    cumsum, moving_cumes = [0], []\n",
    "    for i, x in enumerate(z, 1):\n",
    "        cumsum.append(cumsum[i-1] + x)\n",
    "        if i>=N:\n",
    "            moving_cum = (cumsum[i] - cumsum[i-N])\n",
    "        \n",
    "            moving_cumes.append(moving_cum)\n",
    "            \n",
    "    return [0]*(N-1)+moving_cumes    "
   ]
  },
  {
   "cell_type": "code",
   "execution_count": 7,
   "metadata": {},
   "outputs": [],
   "source": [
    "#Зональные временные и кумулятивные регрессионные признаки\n",
    "def get_trip_features(df,Region,K):\n",
    "    L=df.shape[0]\n",
    "    S=df[Region].values\n",
    "    features = pd.DataFrame()\n",
    "    y0=np.zeros(K)\n",
    "    \n",
    "    #количество поездок из рассматриваемого района в моменты времени yT,yT−1,…,yT−K \n",
    "    for j in range(K):\n",
    "        y=[S[i-j] for i in range(K,L)]\n",
    "        \n",
    "        features['n-_%d' % j]=np.concatenate((y0,y),axis=0)\n",
    "                 \n",
    "    #суммарное количество поездок из рассматриваемого района за предшествующие полдня, сутки, неделю, месяц                 \n",
    "    hours=[4,8,12,24,24*7,24*30]  \n",
    "    for h in hours:\n",
    "        features['sum_%d' % h]=mov_cum(S,N=h)\n",
    "    \n",
    "    return  features        "
   ]
  },
  {
   "cell_type": "code",
   "execution_count": 8,
   "metadata": {},
   "outputs": [],
   "source": [
    "df_ARIMA=pd.read_csv('ARIMA_pred(15.11-16.06)',',') #предсказания по модели ARIMA"
   ]
  },
  {
   "cell_type": "markdown",
   "metadata": {},
   "source": [
    "Приготовим 6 пар обучающих регрессионных признаков размера X и ответов y"
   ]
  },
  {
   "cell_type": "code",
   "execution_count": 9,
   "metadata": {},
   "outputs": [],
   "source": [
    "#Формирует df - регрессионные данные Х и ответы y. 6 вариантов ответов для шага прогноза (1,...6)\n",
    "def get_Xy_data(df, Ktime = 20, Ktrip=10):\n",
    "    \n",
    "    Xtime=get_time_features(df, Ktime) #создание временных признаков\n",
    "\n",
    "    data=[]\n",
    "    \n",
    "    #перебор по зонам для создания кумулятивных и зональных временных признаков\n",
    "    for j,r in enumerate(cols): \n",
    "        #if j==1:\n",
    "        #    break\n",
    "        \n",
    "        Xtrip=get_trip_features(df, r, Ktrip)\n",
    "        X=pd.concat((Xtime,Xtrip), axis=1) # объединение временных признаков и зональных\n",
    "        \n",
    "        # добавление столбцов предсказаний ARIMA\n",
    "        x_arima=df_ARIMA[str(r)]\n",
    "        for i in range(1,7): \n",
    "            X['ARIMA_%d' % i]=x_arima.shift(-i).values\n",
    "        \n",
    "        if j==0:\n",
    "            X_size=X.shape[1] # замер ширины таблицы регрессионных признаков\n",
    "        \n",
    "        # добавление 6 столбцов ответов:\n",
    "        y=df_all[r]\n",
    "        for i in range(1,7): \n",
    "            X['y_%d' % i]=y.shift(-i).values\n",
    "        \n",
    "        X.index=df.index\n",
    "        \n",
    "        #Обрезка 0 в начале и 6 строк в конце\n",
    "        X=X.iloc[24*30-1:df.shape[0]-6] \n",
    "        data.append(X)\n",
    "    return data, X_size"
   ]
  },
  {
   "cell_type": "code",
   "execution_count": 10,
   "metadata": {},
   "outputs": [
    {
     "name": "stdout",
     "output_type": "stream",
     "text": [
      "165\n",
      "Wall time: 14.2 s\n"
     ]
    }
   ],
   "source": [
    "%%time\n",
    "data, X_size =get_Xy_data(df_all, Ktime = 20, Ktrip=10)\n",
    "print X_size"
   ]
  },
  {
   "cell_type": "code",
   "execution_count": 11,
   "metadata": {},
   "outputs": [
    {
     "data": {
      "text/html": [
       "<div>\n",
       "<style scoped>\n",
       "    .dataframe tbody tr th:only-of-type {\n",
       "        vertical-align: middle;\n",
       "    }\n",
       "\n",
       "    .dataframe tbody tr th {\n",
       "        vertical-align: top;\n",
       "    }\n",
       "\n",
       "    .dataframe thead th {\n",
       "        text-align: right;\n",
       "    }\n",
       "</style>\n",
       "<table border=\"1\" class=\"dataframe\">\n",
       "  <thead>\n",
       "    <tr style=\"text-align: right;\">\n",
       "      <th></th>\n",
       "      <th>sinw_w1</th>\n",
       "      <th>cosw_w1</th>\n",
       "      <th>sind_1</th>\n",
       "      <th>cosd_1</th>\n",
       "      <th>sinw_w2</th>\n",
       "      <th>cosw_w2</th>\n",
       "      <th>sind_2</th>\n",
       "      <th>cosd_2</th>\n",
       "      <th>sinw_w3</th>\n",
       "      <th>cosw_w3</th>\n",
       "      <th>...</th>\n",
       "      <th>ARIMA_3</th>\n",
       "      <th>ARIMA_4</th>\n",
       "      <th>ARIMA_5</th>\n",
       "      <th>ARIMA_6</th>\n",
       "      <th>y_1</th>\n",
       "      <th>y_2</th>\n",
       "      <th>y_3</th>\n",
       "      <th>y_4</th>\n",
       "      <th>y_5</th>\n",
       "      <th>y_6</th>\n",
       "    </tr>\n",
       "    <tr>\n",
       "      <th>t</th>\n",
       "      <th></th>\n",
       "      <th></th>\n",
       "      <th></th>\n",
       "      <th></th>\n",
       "      <th></th>\n",
       "      <th></th>\n",
       "      <th></th>\n",
       "      <th></th>\n",
       "      <th></th>\n",
       "      <th></th>\n",
       "      <th></th>\n",
       "      <th></th>\n",
       "      <th></th>\n",
       "      <th></th>\n",
       "      <th></th>\n",
       "      <th></th>\n",
       "      <th></th>\n",
       "      <th></th>\n",
       "      <th></th>\n",
       "      <th></th>\n",
       "      <th></th>\n",
       "    </tr>\n",
       "  </thead>\n",
       "  <tbody>\n",
       "    <tr>\n",
       "      <th>2015-11-30 23:00:00</th>\n",
       "      <td>0.974928</td>\n",
       "      <td>-0.222521</td>\n",
       "      <td>6.862974e-15</td>\n",
       "      <td>1.000000</td>\n",
       "      <td>-0.433884</td>\n",
       "      <td>-0.900969</td>\n",
       "      <td>1.372595e-14</td>\n",
       "      <td>1.000000</td>\n",
       "      <td>-0.781831</td>\n",
       "      <td>0.623490</td>\n",
       "      <td>...</td>\n",
       "      <td>10.444599</td>\n",
       "      <td>3.255400</td>\n",
       "      <td>3.330129</td>\n",
       "      <td>3.999257</td>\n",
       "      <td>19.0</td>\n",
       "      <td>16.0</td>\n",
       "      <td>8.0</td>\n",
       "      <td>3.0</td>\n",
       "      <td>2.0</td>\n",
       "      <td>7.0</td>\n",
       "    </tr>\n",
       "    <tr>\n",
       "      <th>2015-12-01 00:00:00</th>\n",
       "      <td>0.965926</td>\n",
       "      <td>-0.258819</td>\n",
       "      <td>2.588190e-01</td>\n",
       "      <td>0.965926</td>\n",
       "      <td>-0.500000</td>\n",
       "      <td>-0.866025</td>\n",
       "      <td>5.000000e-01</td>\n",
       "      <td>0.866025</td>\n",
       "      <td>-0.707107</td>\n",
       "      <td>0.707107</td>\n",
       "      <td>...</td>\n",
       "      <td>3.255400</td>\n",
       "      <td>3.330129</td>\n",
       "      <td>3.999257</td>\n",
       "      <td>12.881411</td>\n",
       "      <td>16.0</td>\n",
       "      <td>8.0</td>\n",
       "      <td>3.0</td>\n",
       "      <td>2.0</td>\n",
       "      <td>7.0</td>\n",
       "      <td>20.0</td>\n",
       "    </tr>\n",
       "    <tr>\n",
       "      <th>2015-12-01 01:00:00</th>\n",
       "      <td>0.955573</td>\n",
       "      <td>-0.294755</td>\n",
       "      <td>5.000000e-01</td>\n",
       "      <td>0.866025</td>\n",
       "      <td>-0.563320</td>\n",
       "      <td>-0.826239</td>\n",
       "      <td>8.660254e-01</td>\n",
       "      <td>0.500000</td>\n",
       "      <td>-0.623490</td>\n",
       "      <td>0.781831</td>\n",
       "      <td>...</td>\n",
       "      <td>3.330129</td>\n",
       "      <td>3.999257</td>\n",
       "      <td>12.881411</td>\n",
       "      <td>24.737939</td>\n",
       "      <td>8.0</td>\n",
       "      <td>3.0</td>\n",
       "      <td>2.0</td>\n",
       "      <td>7.0</td>\n",
       "      <td>20.0</td>\n",
       "      <td>54.0</td>\n",
       "    </tr>\n",
       "  </tbody>\n",
       "</table>\n",
       "<p>3 rows × 171 columns</p>\n",
       "</div>"
      ],
      "text/plain": [
       "                      sinw_w1   cosw_w1        sind_1    cosd_1   sinw_w2  \\\n",
       "t                                                                           \n",
       "2015-11-30 23:00:00  0.974928 -0.222521  6.862974e-15  1.000000 -0.433884   \n",
       "2015-12-01 00:00:00  0.965926 -0.258819  2.588190e-01  0.965926 -0.500000   \n",
       "2015-12-01 01:00:00  0.955573 -0.294755  5.000000e-01  0.866025 -0.563320   \n",
       "\n",
       "                      cosw_w2        sind_2    cosd_2   sinw_w3   cosw_w3  \\\n",
       "t                                                                           \n",
       "2015-11-30 23:00:00 -0.900969  1.372595e-14  1.000000 -0.781831  0.623490   \n",
       "2015-12-01 00:00:00 -0.866025  5.000000e-01  0.866025 -0.707107  0.707107   \n",
       "2015-12-01 01:00:00 -0.826239  8.660254e-01  0.500000 -0.623490  0.781831   \n",
       "\n",
       "                     ...     ARIMA_3   ARIMA_4    ARIMA_5    ARIMA_6   y_1  \\\n",
       "t                    ...                                                     \n",
       "2015-11-30 23:00:00  ...   10.444599  3.255400   3.330129   3.999257  19.0   \n",
       "2015-12-01 00:00:00  ...    3.255400  3.330129   3.999257  12.881411  16.0   \n",
       "2015-12-01 01:00:00  ...    3.330129  3.999257  12.881411  24.737939   8.0   \n",
       "\n",
       "                      y_2  y_3  y_4   y_5   y_6  \n",
       "t                                                \n",
       "2015-11-30 23:00:00  16.0  8.0  3.0   2.0   7.0  \n",
       "2015-12-01 00:00:00   8.0  3.0  2.0   7.0  20.0  \n",
       "2015-12-01 01:00:00   3.0  2.0  7.0  20.0  54.0  \n",
       "\n",
       "[3 rows x 171 columns]"
      ]
     },
     "execution_count": 11,
     "metadata": {},
     "output_type": "execute_result"
    }
   ],
   "source": [
    "data[0].head(3)"
   ]
  },
  {
   "cell_type": "markdown",
   "metadata": {},
   "source": [
    "Из предыдущей недели выявлено, что среди моделей Лассо, Линейная регрессия, Случайный лес, лучший результат дает Линейнаяя регрессия, поэтому далее используется Линейная регрессия"
   ]
  },
  {
   "cell_type": "code",
   "execution_count": 12,
   "metadata": {},
   "outputs": [],
   "source": [
    "#Составим предсказательные модели для каждой зоны, каждаго предсказательного шага смещения\n",
    "\n",
    "#Линейная регрессия\n",
    "\n",
    "def get_LinearRegr_models(data, X_size, t_end):\n",
    "    \n",
    "    models=[]\n",
    "    for dat in data:\n",
    "        X=dat[:t_end].iloc[:,:X_size]\n",
    "        m=[]\n",
    "        for j in range(6):\n",
    "            y=dat[:t_end].iloc[:,X_size+j]\n",
    "            m.append(LinearRegression().fit(X, y))\n",
    "        models.append(m)\n",
    "    return models"
   ]
  },
  {
   "cell_type": "code",
   "execution_count": 13,
   "metadata": {},
   "outputs": [
    {
     "name": "stdout",
     "output_type": "stream",
     "text": [
      "Wall time: 33.8 s\n"
     ]
    }
   ],
   "source": [
    "%%time\n",
    "t_end='2016-04-30 17:00:00' # Граница обрезки данных\n",
    "LR_models=get_LinearRegr_models(data, X_size,t_end) #Получение списка моделей по зонам"
   ]
  },
  {
   "cell_type": "markdown",
   "metadata": {},
   "source": [
    "Посчитаем качество модели, настроенных на данных до апреля 2016, в мае 2016"
   ]
  },
  {
   "cell_type": "code",
   "execution_count": 14,
   "metadata": {},
   "outputs": [],
   "source": [
    "#Список концов истории:\n",
    "time_ends=df_all['2016-04-30 23:00:00':'2016-05-31 17:00:00'].index"
   ]
  },
  {
   "cell_type": "code",
   "execution_count": 15,
   "metadata": {},
   "outputs": [],
   "source": [
    "def Qmay(data, X_size, models,time_ends):\n",
    "    q=0\n",
    "    for r in range(len(cols)): #преребор по районам\n",
    "        dat=data[r]\n",
    "        model=models[r]\n",
    "        if r==10:\n",
    "            break\n",
    "   \n",
    "        for i,t in enumerate(time_ends): #перебор по концам истории\n",
    "            X=dat[t:t].iloc[:,:X_size]\n",
    "        \n",
    "            for j in range(6): #перебор по шагам прогноза\n",
    "            \n",
    "                m=model[j]\n",
    "                y_hat=m.predict(X)\n",
    "                y_real=dat[t:t].iloc[:,X_size+j]\n",
    "                \n",
    "                q+=np.abs(y_hat[0]-y_real[0])\n",
    "            \n",
    "    Qmay=1./(739*6)*q\n",
    "    return Qmay"
   ]
  },
  {
   "cell_type": "code",
   "execution_count": 16,
   "metadata": {},
   "outputs": [
    {
     "name": "stdout",
     "output_type": "stream",
     "text": [
      "Qmay: 41.60485644941389\n",
      "Wall time: 1min 9s\n"
     ]
    }
   ],
   "source": [
    "%%time\n",
    "print 'Qmay:', Qmay(data, X_size,LR_models,time_ends)"
   ]
  },
  {
   "cell_type": "markdown",
   "metadata": {},
   "source": [
    "#### 2.Попробуйте добавить признаки. Используйте идеи, которые мы предложили, или какие-то свои. Обучайте обновлённые модели на данных до апреля 2016 включительно и считайте качество новых прогнозов на мае. Удаётся ли вам улучшить качество? Не нужно ли увеличить сложность регрессионной модели? Если добавляемый признак не улучшает качество, всё равно оставьте доказательства этому в ноутбуке, чтобы ваши коллеги это видели при проверке."
   ]
  },
  {
   "cell_type": "markdown",
   "metadata": {},
   "source": [
    "Попробуем улучшить качество предсказания, заменив в ARIMA данных отрицательные значения нулями"
   ]
  },
  {
   "cell_type": "code",
   "execution_count": 17,
   "metadata": {},
   "outputs": [],
   "source": [
    "for c in df_ARIMA.columns:\n",
    "    df_ARIMA[c] = df_ARIMA[c].map(lambda x: x if x>=0 else 0)"
   ]
  },
  {
   "cell_type": "code",
   "execution_count": 18,
   "metadata": {},
   "outputs": [
    {
     "name": "stdout",
     "output_type": "stream",
     "text": [
      "47.847295066264195\n",
      "Wall time: 1min 48s\n"
     ]
    }
   ],
   "source": [
    "%%time\n",
    "data, X_size =get_Xy_data(df_all, Ktime = 20, Ktrip=10)\n",
    "LR_models=get_LinearRegr_models(data, X_size, t_end)\n",
    "print Qmay(data, X_size, LR_models,time_ends)"
   ]
  },
  {
   "cell_type": "code",
   "execution_count": null,
   "metadata": {},
   "outputs": [],
   "source": [
    "#Вывод\n",
    "#Обрезание отрицательных значений у ARIMA модели ухудшает точность предсказания"
   ]
  },
  {
   "cell_type": "code",
   "execution_count": 19,
   "metadata": {},
   "outputs": [],
   "source": [
    "# вернемся к первоначальным данным ARIMA\n",
    "df_ARIMA=pd.read_csv('ARIMA_pred(15.11-16.06)',',') #предсказания по модели ARIMA"
   ]
  },
  {
   "cell_type": "code",
   "execution_count": null,
   "metadata": {},
   "outputs": [],
   "source": [
    "Попробуем улучшить прогноз, введя зональные временные и кумулятивные признаки по сдедующим данным:\n",
    "1)'passenger_count'\n",
    "2)'trip_distance'\n",
    "3)'fare_amount'\n",
    "4)'tolls_amount'\n",
    "5)'total_amount'"
   ]
  },
  {
   "cell_type": "markdown",
   "metadata": {},
   "source": [
    "Для них предварительно подготовлены файлы данных, аггрегированных по часам и регионам, аналогично тому, как это было сделано для числа поездок"
   ]
  },
  {
   "cell_type": "code",
   "execution_count": 20,
   "metadata": {},
   "outputs": [],
   "source": [
    "time_start, time_end= '2015-11-01 00:00:00', '2016-06-30 23:00:00',\n",
    "\n",
    "a_0=df_all #Данные по числу поездок\n",
    "a_1=pd.read_csv('1.pass_count_2015-09_2016-06.csv',sep=',',parse_dates=['t'],index_col=['t'])[time_start:time_end]\n",
    "a_2=pd.read_csv('2.trip_dist_2015-09_2016-06.csv',sep=',',parse_dates=['t'],index_col=['t'])[time_start:time_end]\n",
    "a_3=pd.read_csv('3.fare_am_2015-09_2016-06.csv',sep=',',parse_dates=['t'],index_col=['t'])[time_start:time_end]\n",
    "a_4=pd.read_csv('4.tolls_am_2015-09_2016-06.csv',sep=',',parse_dates=['t'],index_col=['t'])[time_start:time_end]\n",
    "a_5=pd.read_csv('5.total_am_2015-09_2016-06.csv',sep=',',parse_dates=['t'],index_col=['t'])[time_start:time_end]\n"
   ]
  },
  {
   "cell_type": "code",
   "execution_count": null,
   "metadata": {},
   "outputs": [],
   "source": [
    "Была попытка сформировать данные по категориальным признакам, таким как \n",
    "    наиболее популярный: район доставки,\n",
    "                            'VendorID'\n",
    "                            'RatecodeID'\n",
    "                            'payment_type'\n",
    "\n",
    "Однако вычислительное время с использованием функции stats.binned_statistic_2d оказалось слишком большим на моем ноутбуке, \n",
    "так что пришлось оказаться от вычисления этих признаков "
   ]
  },
  {
   "cell_type": "markdown",
   "metadata": {},
   "source": [
    "Модифицируем функцию, формирующую регрессионные признаки X с учетом аггрегаций по другим исходным признакам и 6 ответов, соответствующих шагам прогноза"
   ]
  },
  {
   "cell_type": "code",
   "execution_count": 21,
   "metadata": {},
   "outputs": [],
   "source": [
    "#Формирует df - регрессионные данные Х и ответы y. 6 вариантов ответов для шага прогноза (1,...6)\n",
    "def get_Xy_data_on_dfs(dfs, Ktime, Ktrip):\n",
    "    \n",
    "    data=[]\n",
    "    \n",
    "    Xtime=get_time_features(dfs[0], Ktime) #создание общих временных признаков\n",
    "   \n",
    "    #перебор по зонам для создания кумулятивных и зональных временных признаков\n",
    "    for j,r in enumerate(cols): \n",
    "        X=Xtime\n",
    "        \n",
    "        #Перебор по аггрегациям  \n",
    "        for k, df in enumerate(dfs): \n",
    "            Xtrip=get_trip_features(dfs[k], r, Ktrip) \n",
    "            X=pd.concat((X,Xtrip), axis=1) # объединение временных признаков и зональных\n",
    "           \n",
    "       # добавление столбцов предсказаний ARIMA\n",
    "        x_arima=df_ARIMA[str(r)]\n",
    "        for i in range(1,7): \n",
    "            X['ARIMA_%d' % i]=x_arima.shift(-i).values\n",
    "        \n",
    "        if j==0:\n",
    "            X_size=X.shape[1] # замер ширины таблицы регрессионных признаков\n",
    "        \n",
    "        # добавление 6 столбцов ответов:\n",
    "        y=df_all[r]\n",
    "        for i in range(1,7): \n",
    "            X['y_%d' % i]=y.shift(-i).values\n",
    "        \n",
    "        X.index=df.index\n",
    "        \n",
    "        #Обрезка 0 в начале и 6 строк в конце\n",
    "        X=X.iloc[24*30-1:df.shape[0]-6] \n",
    "        data.append(X)\n",
    "    return data, X_size"
   ]
  },
  {
   "cell_type": "code",
   "execution_count": 22,
   "metadata": {},
   "outputs": [],
   "source": [
    "#Функция для рассчета Qmay по нескольким аггрегированным датафреймам\n",
    "def calculate_Qmay(dfs, Ktime = 20, Ktrip=10):\n",
    "    data, X_size =get_Xy_data_on_dfs(dfs, Ktime, Ktrip)\n",
    "    LR_models=get_LinearRegr_models(data, X_size, t_end)\n",
    "    #print Ktime,Ktrip,X_size\n",
    "    return Qmay(data, X_size, LR_models, time_ends)"
   ]
  },
  {
   "cell_type": "markdown",
   "metadata": {},
   "source": [
    "В начале исследуем одиночное введение признаков"
   ]
  },
  {
   "cell_type": "code",
   "execution_count": 23,
   "metadata": {},
   "outputs": [
    {
     "name": "stdout",
     "output_type": "stream",
     "text": [
      "Qmay for n_trips : 41.60485644941389\n",
      "Qmay for n_trips+passenger_count : 42.10840551246281\n",
      "Qmay for n_trips+trip_distance : 74.39815389270112\n",
      "Qmay for n_trips+fare_amount : 42.211517769091984\n",
      "Qmay for n_trips+tolls_amount : 42.148516467663974\n",
      "Qmay for n_trips+total_amount : 42.17946374433456\n",
      "Wall time: 11min 4s\n"
     ]
    }
   ],
   "source": [
    "%%time\n",
    "print 'Qmay for n_trips :', calculate_Qmay([a_0],Ktime = 20, Ktrip=10)\n",
    "print 'Qmay for n_trips+passenger_count :', calculate_Qmay([a_0,a_1],Ktime = 20, Ktrip=10)\n",
    "print 'Qmay for n_trips+trip_distance :', calculate_Qmay([a_0,a_2],Ktime = 20, Ktrip=10)\n",
    "print 'Qmay for n_trips+fare_amount :', calculate_Qmay([a_0,a_3],Ktime = 20, Ktrip=10)\n",
    "print 'Qmay for n_trips+tolls_amount :', calculate_Qmay([a_0,a_4],Ktime = 20, Ktrip=10)\n",
    "print 'Qmay for n_trips+total_amount :', calculate_Qmay([a_0,a_5],Ktime = 20, Ktrip=10)"
   ]
  },
  {
   "cell_type": "code",
   "execution_count": null,
   "metadata": {},
   "outputs": [],
   "source": [
    "Вывод:\n",
    "Введение дополнительных признаков ухудшает предсказание. Особенно ухудшает введение признака 'trip_distance'\n"
   ]
  },
  {
   "cell_type": "code",
   "execution_count": null,
   "metadata": {},
   "outputs": [],
   "source": [
    "Введем все признаки, кроме второго -- 'trip_distance'\n",
    "И все вместе со вторым"
   ]
  },
  {
   "cell_type": "code",
   "execution_count": 24,
   "metadata": {},
   "outputs": [
    {
     "name": "stdout",
     "output_type": "stream",
     "text": [
      "Qmay for all without trip_distance: 44.42907579512345\n",
      "Qmay for all: 167.1239350510453\n",
      "Wall time: 5min 18s\n"
     ]
    }
   ],
   "source": [
    "%%time\n",
    "print 'Qmay for all without trip_distance:', calculate_Qmay([a_0,a_1,a_3,a_4,a_5])\n",
    "print 'Qmay for all:', calculate_Qmay([a_0,a_1,a_2,a_3,a_4,a_5])"
   ]
  },
  {
   "cell_type": "code",
   "execution_count": null,
   "metadata": {},
   "outputs": [],
   "source": [
    "Вывод: введение признаков\n",
    "    'passenger_count', 'trip_distance', 'fare_amount', 'tolls_amount', 'total_amount'\n",
    "не улучшает предсказание"
   ]
  },
  {
   "cell_type": "code",
   "execution_count": null,
   "metadata": {},
   "outputs": [],
   "source": [
    "Попробуем увеличить параметры Ktime = 20, Ktrip=10"
   ]
  },
  {
   "cell_type": "code",
   "execution_count": null,
   "metadata": {},
   "outputs": [],
   "source": [
    "Проверим, как влияет увеличение Ktime, Ktrip на введение других аггрегированных данных"
   ]
  },
  {
   "cell_type": "code",
   "execution_count": 26,
   "metadata": {},
   "outputs": [
    {
     "name": "stdout",
     "output_type": "stream",
     "text": [
      "38.80779586367657\n",
      "39.374513775262955\n",
      "80.98800265079616\n",
      "39.675479758858735\n",
      "39.42209736284507\n",
      "39.75138958911764\n",
      "Wall time: 19min 39s\n"
     ]
    }
   ],
   "source": [
    "%%time\n",
    "print calculate_Qmay([a_0],Ktime = 30, Ktrip=30)\n",
    "print calculate_Qmay([a_0,a_1],Ktime = 30, Ktrip=30)\n",
    "print calculate_Qmay([a_0,a_2],Ktime = 30, Ktrip=30)\n",
    "print calculate_Qmay([a_0,a_3],Ktime = 30, Ktrip=30)\n",
    "print calculate_Qmay([a_0,a_4],Ktime = 30, Ktrip=30)\n",
    "print calculate_Qmay([a_0,a_5],Ktime = 30, Ktrip=30)"
   ]
  },
  {
   "cell_type": "code",
   "execution_count": null,
   "metadata": {},
   "outputs": [],
   "source": [
    "Вывод: \n",
    "Увеличение Ktime, Ktrip не делает введение других аггрегированных данных полезным для точности предсказания"
   ]
  },
  {
   "cell_type": "code",
   "execution_count": null,
   "metadata": {},
   "outputs": [],
   "source": [
    "Проанализируем введение в модель регрессионного признака наличия праздников\n",
    "Признак имеет вид столбца, принимающего значение 1 в строках, соответствующих праздничным дням и 0 во всех остальных днях"
   ]
  },
  {
   "cell_type": "code",
   "execution_count": 27,
   "metadata": {},
   "outputs": [],
   "source": [
    "USA_holidays=['11.11.2015', \n",
    "'24.12.2015', \n",
    "'25.12.2015', \n",
    "'31.12.2015', \n",
    "'01.01.2016', \n",
    "'19.01.2016', \n",
    "'14.02.2016', \n",
    "'17.03.2016', \n",
    "'27.03.2016', \n",
    "'28.03.2016', \n",
    "'30.05.2016']"
   ]
  },
  {
   "cell_type": "code",
   "execution_count": 28,
   "metadata": {},
   "outputs": [
    {
     "data": {
      "text/plain": [
       "['2015-11-11',\n",
       " '2015-12-24',\n",
       " '2015-12-25',\n",
       " '2015-12-31',\n",
       " '2016-01-01',\n",
       " '2016-01-19',\n",
       " '2016-02-14',\n",
       " '2016-03-17',\n",
       " '2016-03-27',\n",
       " '2016-03-28',\n",
       " '2016-05-30']"
      ]
     },
     "execution_count": 28,
     "metadata": {},
     "output_type": "execute_result"
    }
   ],
   "source": [
    "# Преобразуем к стандартному временному формату и обрежем часы\n",
    "from datetime import datetime\n",
    "US_h=[str(datetime.strptime(x,'%d.%m.%Y'))[:10] for x in USA_holidays]\n",
    "US_h"
   ]
  },
  {
   "cell_type": "markdown",
   "metadata": {},
   "source": [
    "Модернизируем функцию 'get_time_features', так, чтобы внутри нее к временным признакам добавлялся признак наличия праздника"
   ]
  },
  {
   "cell_type": "code",
   "execution_count": 29,
   "metadata": {},
   "outputs": [],
   "source": [
    "def get_time_features(df, K):\n",
    "    length = df.shape[0] + 1\n",
    "    features = pd.DataFrame()\n",
    "    for i in range(1,K+1):\n",
    "        features['sinw_w%d' % i] = [ np.sin(t * i * 2.*np.pi / 168.) for t in np.arange(1, length)]\n",
    "        features['cosw_w%d' % i] = [ np.cos(t * i * 2.*np.pi / 168.) for t in np.arange(1, length)]\n",
    "        features['sind_%d' % i] = [ np.sin(t * i * 2.*np.pi / 24.) for t in np.arange(1, length)]\n",
    "        features['cosd_%d' % i] = [ np.cos(t * i * 2.*np.pi / 24.) for t in np.arange(1, length)]\n",
    "\n",
    "    features[['h%d' % i for i in range(0, 24)]] = pd.get_dummies(df.index.hour)\n",
    "    features[['dw%d' % i for i in range(0, 7)]] = pd.get_dummies(df.index.weekday)\n",
    "    features[['dm%d' % i for i in range(0, 31)]] = pd.get_dummies(df.index.day)\n",
    "    features['is_weekend'] = (df.index.weekday > 4).astype(float)\n",
    "   \n",
    "    # Вычисление признака наличия праздника\n",
    "    hh=[]\n",
    "    for x in df.index:\n",
    "        if str(x)[:10] in US_h:\n",
    "            h=1\n",
    "        else:\n",
    "            h=0\n",
    "        hh.append(h)\n",
    "    feature=pd.DataFrame(index=df.index)\n",
    "    features['is_h']=hh\n",
    "        \n",
    "    return features"
   ]
  },
  {
   "cell_type": "code",
   "execution_count": 30,
   "metadata": {},
   "outputs": [
    {
     "name": "stdout",
     "output_type": "stream",
     "text": [
      "Qmay for n_trips : 41.63245213930221\n",
      "Qmay for n_trips+passenger_count : 42.08893290643621\n",
      "Qmay for n_trips+trip_distance : 73.57846512743863\n",
      "Qmay for n_trips+fare_amount : 42.23561227941782\n",
      "Qmay for n_trips+tolls_amount : 42.153387513041245\n",
      "Qmay for n_trips+total_amount : 42.16784896270351\n",
      "Wall time: 11min 37s\n"
     ]
    }
   ],
   "source": [
    "%%time\n",
    "print 'Qmay for n_trips :', calculate_Qmay([a_0],Ktime = 20, Ktrip=10)\n",
    "print 'Qmay for n_trips+passenger_count :', calculate_Qmay([a_0,a_1],Ktime = 20, Ktrip=10)\n",
    "print 'Qmay for n_trips+trip_distance :', calculate_Qmay([a_0,a_2],Ktime = 20, Ktrip=10)\n",
    "print 'Qmay for n_trips+fare_amount :', calculate_Qmay([a_0,a_3],Ktime = 20, Ktrip=10)\n",
    "print 'Qmay for n_trips+tolls_amount :', calculate_Qmay([a_0,a_4],Ktime = 20, Ktrip=10)\n",
    "print 'Qmay for n_trips+total_amount :', calculate_Qmay([a_0,a_5],Ktime = 20, Ktrip=10)"
   ]
  },
  {
   "cell_type": "code",
   "execution_count": null,
   "metadata": {},
   "outputs": [],
   "source": [
    "Тот же рассчет без добавления признака наличия праздника давал результаты:"
   ]
  },
  {
   "cell_type": "code",
   "execution_count": null,
   "metadata": {},
   "outputs": [],
   "source": [
    "41.60485644941389 # анализировалось только количество поездок\n",
    "42.10840551246281 # к-во поездок + 'passenger_count'\n",
    "74.39815389270112 # к-во поездок + 'trip_distance'\n",
    "42.211517769091984 # к-во поездок + 'fare_amount'\n",
    "42.148516467663974 # к-во поездок + 'tolls_amount'\n",
    "42.17946374433456 # к-во поездок + 'total_amount'"
   ]
  },
  {
   "cell_type": "code",
   "execution_count": null,
   "metadata": {},
   "outputs": [],
   "source": [
    "Выводы:\n",
    "Учет праздников положительно влияет на:\n",
    "    анализ по количеству поездок\n",
    "    анализ по к-ву поездок + 'passenger_count'\n",
    "    анализ по к-ву поездок + 'fare_amount'\n",
    "    анализ по к-ву поездок + 'total_amount'\n",
    "\n",
    "Учет праздников отрицательно влияет на:    \n",
    "    анализ по к-ву поездок + 'trip_distance'\n",
    "    анализ по к-ву поездок + 'tolls_amount'\n",
    "Вероятно это связано с наличием корреляции между празниками и этими признаками\n",
    "\n",
    "Введение признака праздников не делает полезным введение в модель основанную на анализе числа поездок \n",
    "дополнительных признаков\n",
    "\n",
    "Качество предсказания существенно улучшается только при увеличении параметров Ktime, Ktrip и \n",
    "незначительно при учете праздников"
   ]
  },
  {
   "cell_type": "code",
   "execution_count": null,
   "metadata": {},
   "outputs": [],
   "source": [
    "Рассмотрим динамику улучшения предсказания в зависимости от параметров Ktime и Ktrip с учетом праздничных дней"
   ]
  },
  {
   "cell_type": "code",
   "execution_count": 31,
   "metadata": {},
   "outputs": [
    {
     "name": "stdout",
     "output_type": "stream",
     "text": [
      "Ktime = 10, Ktrip=5 : 45.28610286443238\n",
      "Ktime = 20, Ktrip=10 : 41.63245213930221\n",
      "Ktime = 30, Ktrip=20 : 39.473990471036196\n",
      "Ktime = 30, Ktrip=30 : 38.860910261502475\n",
      "Ktime = 60, Ktrip=40 : 37.04725447285182\n",
      "Ktime = 120, Ktrip=80 : 37.81591809797042\n",
      "Wall time: 17min 44s\n"
     ]
    }
   ],
   "source": [
    "%%time\n",
    "print 'Ktime = 10, Ktrip=5 :', calculate_Qmay([a_0],Ktime = 10, Ktrip=5)\n",
    "print 'Ktime = 20, Ktrip=10 :',calculate_Qmay([a_0],Ktime = 20, Ktrip=10)\n",
    "print 'Ktime = 30, Ktrip=20 :',calculate_Qmay([a_0],Ktime = 30, Ktrip=20)\n",
    "print 'Ktime = 30, Ktrip=30 :',calculate_Qmay([a_0],Ktime = 30, Ktrip=30)\n",
    "print 'Ktime = 60, Ktrip=40 :',calculate_Qmay([a_0],Ktime = 60, Ktrip=40)\n",
    "print 'Ktime = 120, Ktrip=80 :',calculate_Qmay([a_0],Ktime = 120, Ktrip=80)"
   ]
  },
  {
   "cell_type": "code",
   "execution_count": null,
   "metadata": {},
   "outputs": [],
   "source": []
  },
  {
   "cell_type": "code",
   "execution_count": null,
   "metadata": {},
   "outputs": [],
   "source": [
    "Вывод: \n",
    "при уменьшении величины Ktime и Ktrip точность падает\n",
    "при увеличении величины Ktime и Ktrip точность растет, но до определенного предела и далее падает"
   ]
  },
  {
   "cell_type": "code",
   "execution_count": null,
   "metadata": {},
   "outputs": [],
   "source": [
    "При расчете предсказанных значений появляются отрицательные величины. Их можно заменить:\n",
    "    а) 0 (-y => 0)\n",
    "    б) модулем этой величины (-y => |y|)"
   ]
  },
  {
   "cell_type": "code",
   "execution_count": null,
   "metadata": {},
   "outputs": [],
   "source": [
    "Для проверки гипотезы модифицируем функции:"
   ]
  },
  {
   "cell_type": "code",
   "execution_count": 43,
   "metadata": {},
   "outputs": [],
   "source": [
    "def Qmay_ab(data, X_size, models,time_ends):\n",
    "    q, q0, q1 =0.,0.,0.\n",
    "    for r in range(len(cols)): #преребор по районам\n",
    "        dat=data[r]\n",
    "        model=models[r]\n",
    "        #if r==10:\n",
    "            #break\n",
    "   \n",
    "        for i,t in enumerate(time_ends): #перебор по концам истории\n",
    "            X=dat[t:t].iloc[:,:X_size]\n",
    "        \n",
    "            for j in range(6): #перебор по шагам прогноза\n",
    "            \n",
    "                m=model[j]\n",
    "                y_hat=m.predict(X)\n",
    "                y_real=dat[t:t].iloc[:,X_size+j]\n",
    "                \n",
    "                #модификация - замена предсказанного отрицательного y на 0\n",
    "                if y_hat[0]<0:\n",
    "                    y_hat0=[0]\n",
    "                    y_hat1=[np.abs(y_hat[0])]\n",
    "                else:\n",
    "                    y_hat0, y_hat1= y_hat, y_hat\n",
    "                \n",
    "                q+=np.abs(y_hat[0]-y_real[0])\n",
    "                q0+=np.abs(y_hat0[0]-y_real[0])\n",
    "                q1+=np.abs(y_hat1[0]-y_real[0])\n",
    "            \n",
    "    Qmay=1./(739*6)*q\n",
    "    Qmay0=1./(739*6)*q0\n",
    "    Qmay1=1./(739*6)*q1\n",
    "    return Qmay, Qmay0, Qmay1"
   ]
  },
  {
   "cell_type": "code",
   "execution_count": 44,
   "metadata": {},
   "outputs": [],
   "source": [
    "def calculate_Qmay_ab(dfs, Ktime = 20, Ktrip=10):\n",
    "    data, X_size =get_Xy_data_on_dfs(dfs, Ktime, Ktrip)\n",
    "    LR_models=get_LinearRegr_models(data, X_size, t_end)\n",
    "    #print Ktime,Ktrip,X_size\n",
    "    return Qmay_ab(data, X_size, LR_models, time_ends)"
   ]
  },
  {
   "cell_type": "code",
   "execution_count": 45,
   "metadata": {},
   "outputs": [
    {
     "name": "stdout",
     "output_type": "stream",
     "text": [
      "Ktime = 30, Ktrip=30 : Qmay, Qmay a), Qmay б): (38.860910261502475, 38.82103180962501, 38.80646969451088)\n",
      "Wall time: 2min 25s\n"
     ]
    }
   ],
   "source": [
    "%%time\n",
    "print 'Ktime = 30, Ktrip=30 : Qmay, Qmay a), Qmay б):',calculate_Qmay([a_0],Ktime = 30, Ktrip=30)"
   ]
  },
  {
   "cell_type": "code",
   "execution_count": 47,
   "metadata": {},
   "outputs": [
    {
     "name": "stdout",
     "output_type": "stream",
     "text": [
      "Ktime = 60, Ktrip=40 : Qmay, Qmay a), Qmay б): (37.04725447285182, 36.99424017553102, 36.975460840909854)\n",
      "Wall time: 3min 53s\n"
     ]
    }
   ],
   "source": [
    "%%time\n",
    "print 'Ktime = 60, Ktrip=40 : Qmay, Qmay a), Qmay б):',calculate_Qmay([a_0],Ktime = 60, Ktrip=40)"
   ]
  },
  {
   "cell_type": "code",
   "execution_count": 48,
   "metadata": {},
   "outputs": [
    {
     "name": "stdout",
     "output_type": "stream",
     "text": [
      "Ktime = 40, Ktrip=40 : Qmay, Qmay a), Qmay б): (37.53244058460162, 37.4977671303293, 37.47720847554877)\n",
      "Wall time: 3min 1s\n"
     ]
    }
   ],
   "source": [
    "%%time\n",
    "print 'Ktime = 40, Ktrip=40 : Qmay, Qmay a), Qmay б):',calculate_Qmay([a_0],Ktime = 40, Ktrip=40)"
   ]
  },
  {
   "cell_type": "code",
   "execution_count": null,
   "metadata": {},
   "outputs": [],
   "source": [
    "Вывод:\n",
    "    Замена предсказанных отрицательных значений их модулями улучшает качество предсказания"
   ]
  },
  {
   "cell_type": "code",
   "execution_count": null,
   "metadata": {},
   "outputs": [],
   "source": [
    "Остановимся на следующих подходах:\n",
    "    Используются только данные числа поездок\n",
    "    Учитываются праздничные дни\n",
    "    Используются регрессионные признаки, соответствующие Ktime = 30, Ktrip=40\n",
    "    Отрицательные предсказания заменяются их модулями"
   ]
  },
  {
   "cell_type": "markdown",
   "metadata": {},
   "source": [
    "#### 3. Когда вы примете решение остановиться и перестать добавлять признаки, постройте для каждой географической зоны и каждого конца истории от 2016.04.30 23:00 до 2016.05.31 17:00 прогнозы на 6 часов вперёд; посчитайте в ноутбуке ошибку прогноза по следующему функционалу:"
   ]
  },
  {
   "cell_type": "code",
   "execution_count": null,
   "metadata": {},
   "outputs": [],
   "source": [
    "# Qmay было:\n",
    "41.60485644941389\n",
    "\n",
    "# Qmay стало: \n",
    "37.04725447285182"
   ]
  },
  {
   "cell_type": "code",
   "execution_count": null,
   "metadata": {},
   "outputs": [],
   "source": [
    "Вывод: Точность повысилась"
   ]
  },
  {
   "cell_type": "markdown",
   "metadata": {},
   "source": [
    "#### 4. Переобучите итоговые модели на данных до мая 2016 включительно, постройте прогнозы на июнь для каждого конца истории от 2016.05.31 23:00 до 2016.06.30 17:00 и запишите все результаты в один файл в уже знакомом вам формате: geoID, histEndDay, histEndHour, step, y"
   ]
  },
  {
   "cell_type": "code",
   "execution_count": 53,
   "metadata": {},
   "outputs": [
    {
     "name": "stdout",
     "output_type": "stream",
     "text": [
      "Wall time: 11 ms\n",
      "\n"
     ]
    }
   ],
   "source": [
    "%%time\n",
    "time_ends=df_all['2016-05-31 23:00:00':'2016-06-30 17:00:00'].index\n",
    "t_end='2016-05-31 17:00:00'"
   ]
  },
  {
   "cell_type": "code",
   "execution_count": 55,
   "metadata": {},
   "outputs": [
    {
     "name": "stdout",
     "output_type": "stream",
     "text": [
      "Wall time: 8min 56s\n"
     ]
    }
   ],
   "source": [
    "%%time\n",
    "data, X_size =get_Xy_data_on_dfs([a_0], 60, 40)\n",
    "models=get_LinearRegr_models(data, X_size, t_end)\n",
    "\n",
    "Q=[]\n",
    "for r in range(len(cols)): #преребор по районам\n",
    "    dat=data[r]\n",
    "    model=models[r]\n",
    "    i_zone=cols[r]\n",
    "    #if r==1:\n",
    "        #break\n",
    "        \n",
    "    for i,t in enumerate(time_ends): #перебор по концам истории\n",
    "        X=dat[t:t].iloc[:,:X_size]\n",
    "        \n",
    "        for j in range(6): #перебор по шагам прогноза\n",
    "            \n",
    "            m=model[j]\n",
    "            y_hat=m.predict(X)[0]\n",
    "            \n",
    "            te=time_ends[i]\n",
    "            id_='{}_2016-{:02}-{:02}_{}_{}'.format(i_zone, te.month, te.day, te.hour, j+1)\n",
    "            \n",
    "            Q.append([id_, y_hat])\n",
    "\n",
    "Predict_june=pd.DataFrame(Q)"
   ]
  },
  {
   "cell_type": "markdown",
   "metadata": {},
   "source": [
    "#### 5. Загрузите полученный файл на kaggle: https://inclass.kaggle.com/c/yellowtaxi. Добавьте в ноутбук ссылку на сабмишн."
   ]
  },
  {
   "cell_type": "code",
   "execution_count": 57,
   "metadata": {},
   "outputs": [],
   "source": [
    "Predict_june.to_csv('Kaggle3.csv',',',index=False)"
   ]
  },
  {
   "cell_type": "markdown",
   "metadata": {},
   "source": [
    "Ссылка на сабмишн https://inclass.kaggle.com/c/yellowtaxi/leaderboard#score\n",
    "    Score 51.86995   "
   ]
  },
  {
   "cell_type": "code",
   "execution_count": null,
   "metadata": {},
   "outputs": [],
   "source": []
  }
 ],
 "metadata": {
  "kernelspec": {
   "display_name": "Python 2",
   "language": "python",
   "name": "python2"
  },
  "language_info": {
   "codemirror_mode": {
    "name": "ipython",
    "version": 2
   },
   "file_extension": ".py",
   "mimetype": "text/x-python",
   "name": "python",
   "nbconvert_exporter": "python",
   "pygments_lexer": "ipython2",
   "version": "2.7.15"
  }
 },
 "nbformat": 4,
 "nbformat_minor": 2
}
